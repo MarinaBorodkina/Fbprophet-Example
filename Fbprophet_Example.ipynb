{
 "cells": [
  {
   "cell_type": "markdown",
   "metadata": {},
   "source": [
    "# Time Series Forecasting with a Practical Example using FB Prophet"
   ]
  },
  {
   "cell_type": "markdown",
   "metadata": {},
   "source": [
    "Facebook developed an open sourcing Prophet, a forecasting tool available in both Python and R. It provides intuitive parameters which are easy to tune. Even someone who lacks deep expertise in time-series forecasting models can use this to generate meaningful predictions for a variety of problems in business scenarios.\n",
    "\n",
    "The Prophet Forecasting Model\n",
    "\n",
    "The Prophet uses a decomposable time series model with three main model components: trend, seasonality, and holidays. \n",
    "    They are combined in the following equation:\n",
    "\n",
    "        y(t)= g(t) + s(t) + h(t) + εt\n",
    "\n",
    "        g(t): piecewise linear or logistic growth curve for modeling non-periodic changes in time series\n",
    "        s(t): periodic changes (e.g. weekly/yearly seasonality)\n",
    "        h(t): effects of holidays (user provided) with irregular schedules\n",
    "        εt: error term accounts for any unusual changes not accommodated by the model\n",
    "            \n",
    "Using time as a regressor, Prophet is trying to fit several linear and non linear functions of time as components. Modeling seasonality as an additive component is the same approach taken by exponential smoothing in Holt-Winters technique . Prophet is framing the forecasting problem as a curve-fitting exercise rather than looking explicitly at the time based dependence of each observation within a time series.\n",
    "\n",
    "useful links:\n",
    "    \n",
    "https://towardsdatascience.com/a-quick-start-of-time-series-forecasting-with-a-practical-example-using-fb-prophet-31c4447a2274\n",
    "    \n",
    "https://github.com/facebook/prophet\n",
    "\n",
    "[Предсказываем будущее с помощью библиотеки Facebook Prophet](https://habrahabr.ru/company/ods/blog/323730/)\n",
    "\n",
    "https://nbviewer.jupyter.org/github/miptgirl/habra_materials/blob/master/prophet/habra_data.ipynb\n",
    "\n",
    "Библиотека prophet позволяет быстро и достаточно качественно автоматически строить прогнозы временныз рядов. Подробно про теорию работы можно почитать в замечательной статьей по ссылке выше, а сейчас посмотрим на практике, как она работает"
   ]
  },
  {
   "cell_type": "markdown",
   "metadata": {},
   "source": [
    "Box–Cox transformation\n",
    "\n",
    "transformation makes the data more normal distribution-like, improves the validity of measures of association such as the Pearson correlation between variables and for other data stabilization procedures. \n",
    "\n",
    "The one-parameter Box–Cox transformations are defined as"
   ]
  },
  {
   "attachments": {
    "image.png": {
     "image/png": "[encoded data removed]"
    }
   },
   "cell_type": "markdown",
   "metadata": {
    "ExecuteTime": {
     "end_time": "2019-07-18T11:53:49.102227Z",
     "start_time": "2019-07-18T11:53:48.978561Z"
    }
   },
   "source": [
    "![image.png](attachment:image.png)"
   ]
  },
  {
   "cell_type": "markdown",
   "metadata": {},
   "source": [
    "https://en.wikipedia.org/wiki/Power_transform"
   ]
  },
  {
   "cell_type": "code",
   "execution_count": 31,
   "metadata": {
    "ExecuteTime": {
     "end_time": "2019-07-22T10:46:44.488079Z",
     "start_time": "2019-07-22T10:46:44.480789Z"
    }
   },
   "outputs": [
    {
     "data": {
      "text/html": [
       "<script type=\"text/javascript\">window.PlotlyConfig = {MathJaxConfig: 'local'};</script><script type=\"text/javascript\">if (window.MathJax) {MathJax.Hub.Config({SVG: {font: \"STIX-Web\"}});}</script><script>requirejs.config({paths: { 'plotly': ['https://cdn.plot.ly/plotly-latest.min']},});if(!window._Plotly) {require(['plotly'],function(plotly) {window._Plotly=plotly;});}</script>"
      ],
      "text/vnd.plotly.v1+html": [
       "<script type=\"text/javascript\">window.PlotlyConfig = {MathJaxConfig: 'local'};</script><script type=\"text/javascript\">if (window.MathJax) {MathJax.Hub.Config({SVG: {font: \"STIX-Web\"}});}</script><script>requirejs.config({paths: { 'plotly': ['https://cdn.plot.ly/plotly-latest.min']},});if(!window._Plotly) {require(['plotly'],function(plotly) {window._Plotly=plotly;});}</script>"
      ]
     },
     "metadata": {},
     "output_type": "display_data"
    }
   ],
   "source": [
    "import pandas as pd\n",
    "import numpy as np\n",
    "import calendar\n",
    "\n",
    "from fbprophet import Prophet\n",
    "from sklearn import metrics\n",
    "from sklearn.preprocessing import MaxAbsScaler\n",
    "from scipy import stats\n",
    "\n",
    "import matplotlib.pyplot as plt\n",
    "from plotly import graph_objs as go\n",
    "from plotly.offline import init_notebook_mode, iplot\n",
    "\n",
    "init_notebook_mode(connected=True)\n",
    "\n",
    "# Import and suppress warnings\n",
    "import warnings\n",
    "warnings.filterwarnings('ignore')"
   ]
  },
  {
   "cell_type": "code",
   "execution_count": 32,
   "metadata": {
    "ExecuteTime": {
     "end_time": "2019-07-22T10:46:45.533696Z",
     "start_time": "2019-07-22T10:46:45.521682Z"
    }
   },
   "outputs": [],
   "source": [
    "''' VISUALISATION '''\n",
    "\n",
    "\n",
    "def PlotMovingAverage(series_,\n",
    "                      window_,\n",
    "                      title_='',\n",
    "                      plot_intervals_=False,\n",
    "                      scale_=1.96,\n",
    "                      plot_anomalies_=False):\n",
    "    ''' Visualization of the TimeSerie with moving average window and anomalies. '''\n",
    "    '''\n",
    "        series_ - dataframe with timeseries\n",
    "        window_ - rolling window size \n",
    "        plot_intervals_ - show confidence intervals\n",
    "        plot_anomalies_ - show anomalies \n",
    "\n",
    "    '''\n",
    "    rolling_mean = series_.rolling(window=window_).mean()\n",
    "\n",
    "    plt.figure(figsize=(15, 5))\n",
    "    plt.xticks(rotation='vertical')\n",
    "    plt.title(title_ + 'Moving average\\n window size = {}'.format(window_))\n",
    "    plt.plot(\n",
    "        rolling_mean,\n",
    "        color='lightblue',\n",
    "        linewidth=2,\n",
    "        label='Rolling mean trend')\n",
    "\n",
    "    # При желании, можно строить и доверительные интервалы для сглаженных значений\n",
    "    if plot_intervals_:\n",
    "        mae = metrics.mean_absolute_error(series_[window_:],\n",
    "                                          rolling_mean[window_:])\n",
    "        deviation = np.std(series_[window_:] - rolling_mean[window_:])\n",
    "        lower_bond = rolling_mean - (mae + scale_ * deviation)\n",
    "        upper_bond = rolling_mean + (mae + scale_ * deviation)\n",
    "        plt.plot(upper_bond, 'r--', label='Upper Bond / Lower Bond')\n",
    "        plt.plot(lower_bond, 'r--')\n",
    "\n",
    "        # а имея доверительные интервалы, можно искать аномальные значения\n",
    "        if plot_anomalies_:\n",
    "            anomalies = pd.DataFrame(\n",
    "                index=series_.index, columns=series_.columns)\n",
    "            anomalies[series_ < lower_bond] = series_[series_ < lower_bond]\n",
    "            anomalies[series_ > upper_bond] = series_[series_ > upper_bond]\n",
    "            plt.plot(anomalies, 'ro', markersize=10)\n",
    "\n",
    "    plt.plot(\n",
    "        series_[window_:],\n",
    "        'green',\n",
    "        marker='o',\n",
    "        markerfacecolor='green',\n",
    "        markersize=6,\n",
    "        color='green',\n",
    "        linewidth=2,\n",
    "        label='Actual values')\n",
    "\n",
    "    plt.legend(loc='upper right')\n",
    "    plt.grid(True)\n",
    "    plt.show()\n",
    "\n",
    "\n",
    "def PlotProphetFact(series_, predictions_, ytitle_='', xtitle_=''):\n",
    "    ''' Visualization of the TimeSerie with Actual and Forecast values and trand. '''\n",
    "    '''\n",
    "        series_ - dataframe with timeseries actual values\n",
    "        predictions_ - dataframe with timeseries forecast\n",
    "\n",
    "    '''\n",
    "\n",
    "    trend = go.Scatter(\n",
    "        name='Trend',\n",
    "        x=series_.index,\n",
    "        y=series_.trend,\n",
    "        marker=dict(color='lightblue'),\n",
    "        mode='lines')\n",
    "\n",
    "    forecast_upper = go.Scatter(\n",
    "        name='upper_bond',\n",
    "        x=series_.tail(predictions_).index,\n",
    "        y=series_.tail(predictions_).yhat_upper,\n",
    "        mode='lines',\n",
    "        fill='tonexty',\n",
    "        line=dict(color='lightpink'))\n",
    "    forecast_lower = go.Scatter(\n",
    "        name='lower_bond',\n",
    "        x=series_.tail(predictions_).index,\n",
    "        y=series_.tail(predictions_).yhat_lower,\n",
    "        mode='lines',\n",
    "        fill='tonexty',\n",
    "        line=dict(color='lightpink'))\n",
    "    forecast = go.Scatter(\n",
    "        name='Forecast',\n",
    "        x=series_.tail(predictions_).index,\n",
    "        y=series_.tail(predictions_).yhat,\n",
    "        mode='lines+markers',\n",
    "        line=dict(color='red'))\n",
    "    fact = go.Scatter(\n",
    "        name='Actual values',\n",
    "        x=series_.index,\n",
    "        y=series_.y,\n",
    "        marker=dict(color='green'),\n",
    "        mode='lines+markers')\n",
    "    forecast_tr = go.Scatter(\n",
    "        name='Prophet',\n",
    "        x=series_.index,\n",
    "        y=series_.yhat,\n",
    "        mode='lines',\n",
    "        line=dict(color='pink'))\n",
    "\n",
    "    cap = go.Scatter(\n",
    "        name='100%',\n",
    "        x=series_.index,\n",
    "        y=series_.cap,\n",
    "        marker=dict(color='black'),\n",
    "        mode='markers')\n",
    "\n",
    "    data = [trend, forecast_tr, fact,\n",
    "            forecast]  #, forecast_lower,  forecast_upper]\n",
    "\n",
    "    layout = go.Layout(\n",
    "        yaxis=dict(title=ytitle_), title=xtitle_, showlegend=True)\n",
    "    # xaxis={\"title\": \"Year\", \"tickangle\": 45},\n",
    "    fig = go.Figure(data=data, layout=layout)\n",
    "    iplot(fig, show_link=False)"
   ]
  },
  {
   "cell_type": "code",
   "execution_count": 33,
   "metadata": {
    "ExecuteTime": {
     "end_time": "2019-07-22T10:46:46.421128Z",
     "start_time": "2019-07-22T10:46:46.400223Z"
    }
   },
   "outputs": [],
   "source": [
    "''' FBPROPHET FORECAST '''\n",
    "\n",
    "\n",
    "def InvBoxCox(y, lmbda):\n",
    "    if lmbda == 0:\n",
    "        return (np.exp(y))\n",
    "    else:\n",
    "        return (np.exp(np.log(lmbda * y + 1) / lmbda))\n",
    "\n",
    "\n",
    "def BuildProphetModel(df_, scaler_, predictions_, test_=False, boxcox_=False):\n",
    "\n",
    "    if test_:\n",
    "        df_train_ = df_[:-predictions_]\n",
    "    else:\n",
    "        df_train_ = df_.copy()\n",
    "\n",
    "    # BoxCox transformation\n",
    "    if boxcox_:\n",
    "        df_train_ = df_train_.copy().fillna(0)\n",
    "        df_train_ = df_train_.set_index('ds')\n",
    "        df_train_['y'], lmbda_prophet = stats.boxcox(df_train_['y'])\n",
    "        df_train_.reset_index(inplace=True)\n",
    "\n",
    "    # create and train prophet model\n",
    "    model = Prophet(\n",
    "        seasonality_mode='multiplicative',\n",
    "        yearly_seasonality=True,\n",
    "        weekly_seasonality=False,\n",
    "        daily_seasonality=False)\n",
    "    model.fit(df_train_)\n",
    "\n",
    "    # forecast the future\n",
    "    future = model.make_future_dataframe(periods=predictions_, freq='M')\n",
    "    forecast = model.predict(future)\n",
    "\n",
    "    # BoxCox invariation\n",
    "    if boxcox_:\n",
    "        for col in forecast.columns.tolist():\n",
    "            # print(col)\n",
    "            if col not in ['ds', 'floor', 'cap']:\n",
    "                forecast[col] = InvBoxCox(forecast[col], lmbda_prophet)\n",
    "\n",
    "    df_result_ = forecast.set_index('ds')[[\n",
    "        'yhat', 'yhat_lower', 'yhat_upper', 'trend'\n",
    "    ]].join(df_.set_index('ds'))\n",
    "\n",
    "    # Normalization inverse transformation\n",
    "    columns_ = df_result_.columns\n",
    "    df_result_ = scaler_.inverse_transform(df_result_)\n",
    "    df_result_ = pd.DataFrame(df_result_)\n",
    "    df_result_.columns = columns_\n",
    "    df_result_.reset_index(inplace=True)\n",
    "    df_.reset_index(inplace=True)\n",
    "    df_result_ = forecast[['ds']].join(df_result_).set_index('ds')\n",
    "\n",
    "    df_result_['floor'], df_result_['cap'] = 0, 1\n",
    "\n",
    "    return df_result_\n",
    "\n",
    "\n",
    "def TransformPvToDf(pv_, col_name_, col_value_):\n",
    "    ''' Transform pandas pivot table to regular dataframe. '''\n",
    "\n",
    "    df_ = pv_.copy()\n",
    "    df_.columns = df_.columns.droplevel(0)\n",
    "    df_.columns.name = None\n",
    "    df_ = df_.reset_index()\n",
    "\n",
    "    dft_ = df_[df_[col_name_] == col_value_].T\n",
    "    dft_.drop(dft_.index[[0, 1]], inplace=True)\n",
    "    dft_.columns = ['y']\n",
    "    # try:\n",
    "    #    dft_ = dft_[:'2018-06']\n",
    "    # except:\n",
    "    #    print()\n",
    "    return dft_\n",
    "\n",
    "\n",
    "def UpdateDate(row):\n",
    "    ''' Some other date transformation.'''\n",
    "\n",
    "    m, y = row['ds'][-2:], row['ds'][0:4]\n",
    "    d = str(calendar.monthrange(int(y), int(m))[1])\n",
    "    return pd.to_datetime(m + '/' + d + '/' + y)\n",
    "\n",
    "\n",
    "def MetricsCalculation(df_prophet_, predictions_):\n",
    "    ''' Metrics calculation. '''\n",
    "\n",
    "    df_prophet_['e'] = df_prophet_['y'] - df_prophet_['yhat']\n",
    "    df_prophet_['p'] = 100 * df_prophet_['e'] / df_prophet_['y']\n",
    "    y_test = df_prophet_[-predictions_:]['y'].tolist()\n",
    "    y_prediction = df_prophet_[-predictions_:]['yhat'].tolist()\n",
    "\n",
    "    mean_abs_err_ = round(\n",
    "        100 * metrics.mean_absolute_error(y_test, y_prediction), 2)\n",
    "    mean_sqr_err_ = round(\n",
    "        100 * metrics.mean_squared_error(y_test, y_prediction), 2)\n",
    "    mean_abs_percentage_err_ = round(\n",
    "        np.mean(abs(df_prophet_[-predictions_:]['p'])), 2)\n",
    "    # mean_squared_log_error_ = metrics.mean_squared_log_error(y_test, y_prediction)\n",
    "    # median_absolute_error_ = metrics.median_absolute_error(y_test, y_prediction)\n",
    "    # r2_score_ = metrics.r2_score(y_test, y_prediction)\n",
    "\n",
    "    if mean_abs_err_ > 99:\n",
    "        mean_abs_err_ = 'inf'\n",
    "    if mean_sqr_err_ > 99:\n",
    "        mean_sqr_err_ = 'inf'\n",
    "    if mean_abs_percentage_err_ > 99:\n",
    "        mean_abs_percentage_err_ = 'inf'\n",
    "\n",
    "    return mean_abs_err_, mean_sqr_err_, mean_abs_percentage_err_\n",
    "\n",
    "\n",
    "def ProphetCover(df_,\n",
    "                 predictions_,\n",
    "                 title_='',\n",
    "                 is_test_=False,\n",
    "                 with_visualization_=False,\n",
    "                 with_boxcox_=False):\n",
    "\n",
    "    # mae_, mse_, mape_, mae_boxcox_, mse_boxcox_, mape_boxcox_ = 'inf', 'inf', 'inf', 'inf', 'inf', 'inf'\n",
    "    mae_, mse_, mape_ = 'inf', 'inf', 'inf'\n",
    "\n",
    "    # Normalization\n",
    "    scaler_ = MaxAbsScaler().fit(df_)\n",
    "    df_['y'] = scaler_.transform(df_)\n",
    "\n",
    "    # special dataframe\n",
    "    df = df_.reset_index()\n",
    "    df.columns = ['ds', 'y']\n",
    "    # dates preprocessing\n",
    "    df['ds'] = df.apply(lambda row: UpdateDate(row), axis=1)\n",
    "\n",
    "    try:\n",
    "        # Prophet model and forecast\n",
    "        df_prophet = BuildProphetModel(df, scaler_, predictions_, is_test_)\n",
    "        # Metrics\n",
    "        if is_test_:\n",
    "            mae_, mse_, mape_ = MetricsCalculation(df_prophet, predictions_)\n",
    "        # Prophet visualisation\n",
    "        if with_visualization_:\n",
    "            if is_test_:\n",
    "                if mae_ == 'inf':\n",
    "                    print('mean absolute percentage error = {}%'.format(mape_))\n",
    "                else:\n",
    "                    print(\n",
    "                        'mean absolute error = {}%, mean squared error = {}%, mean absolute percentage error = {}%'\n",
    "                        .format(mae_, mse_, mape_))\n",
    "            PlotProphetFact(df_prophet, predictions_, title_, 'Prophet')\n",
    "    except:\n",
    "        mae_, mse_, mape_ = 'inf', 'inf', 'inf'\n",
    "\n",
    "    if with_boxcox_:\n",
    "        # Box-Cox transformation was able to remove much of the increasing variance in our observations over time\n",
    "        try:\n",
    "            # Prophet model and forecast with BoxCox transformation\n",
    "            df_prophet_boxcox = BuildProphetModel(df, scaler_, predictions_,\n",
    "                                                  is_test_, True)\n",
    "            # Metrics\n",
    "            if is_test_:\n",
    "                mae_boxcox_, mse_boxcox_, mape_boxcox_ = MetricsCalculation(\n",
    "                    df_prophet_boxcox, predictions_)\n",
    "            # Prophet visualisation\n",
    "            if with_visualization_:\n",
    "                if is_test_:\n",
    "                    if mae_boxcox_ == 'inf':\n",
    "                        print('mean absolute percentage error = {}%'.format(\n",
    "                            mape_boxcox_))\n",
    "                    else:\n",
    "                        print(\n",
    "                            'mean absolute error = {}%, mean squared error = {}%, mean absolute percentage error = {}%'\n",
    "                            .format(mae_boxcox_, mse_boxcox_, mape_boxcox_))\n",
    "                PlotProphetFact(df_prophet_boxcox, predictions_, title_,\n",
    "                                'Prophet with BoxCox')\n",
    "        except:\n",
    "            mae_boxcox_, mse_boxcox_, mape_boxcox_ = 'inf', 'inf', 'inf'\n",
    "\n",
    "    return df_prophet  #, mae_, mse_, mape_ #, mae_boxcox_, mse_boxcox_, mape_boxcox_"
   ]
  },
  {
   "cell_type": "markdown",
   "metadata": {},
   "source": [
    "## Number of active contracts\n"
   ]
  },
  {
   "cell_type": "markdown",
   "metadata": {},
   "source": [
    "### Visualization"
   ]
  },
  {
   "cell_type": "code",
   "execution_count": 40,
   "metadata": {
    "ExecuteTime": {
     "end_time": "2019-07-22T10:50:08.257104Z",
     "start_time": "2019-07-22T10:50:07.747278Z"
    }
   },
   "outputs": [
    {
     "data": {
      "image/png": "[encoded data removed]",
      "text/plain": [
       "<Figure size 1080x360 with 1 Axes>"
      ]
     },
     "metadata": {
      "needs_background": "light"
     },
     "output_type": "display_data"
    }
   ],
   "source": [
    "ds_ = pd.date_range('2016-01', '2019-01', freq='MS').strftime(\"%Y-%m\").tolist()\n",
    "y_ = [\n",
    "    107778.0, 109994.0, 113108.0, 114177.0, 115098.0, 118306.0, 120326.0,\n",
    "    120686.0, 116099.0, 115777.0, 117359.0, 119676.0, 117627.0, 115865.0,\n",
    "    114920.0, 111605.0, 109906.0, 108660.0, 105876.0, 104116.0, 100202.0,\n",
    "    98858.0, 100250.0, 101000.0, 99840.0, 97092.0, 93567.0, 91415.0, 89453.0,\n",
    "    86481.0, 84296.0, 82079.0, 79260.0, 77345.0, 75847.0, 73510.0, 72084.0\n",
    "]\n",
    "df = pd.DataFrame({'ds': ds_, 'y': y_}).set_index('ds')\n",
    "\n",
    "PlotMovingAverage(\n",
    "    df,\n",
    "    6,\n",
    "    title_='Number of active contracts ',\n",
    "    plot_intervals_=True,\n",
    "    plot_anomalies_=True)"
   ]
  },
  {
   "cell_type": "markdown",
   "metadata": {},
   "source": [
    "### Forecast (with visualization)"
   ]
  },
  {
   "cell_type": "code",
   "execution_count": 42,
   "metadata": {
    "ExecuteTime": {
     "end_time": "2019-07-22T11:11:29.508443Z",
     "start_time": "2019-07-22T11:10:43.420359Z"
    }
   },
   "outputs": [
    {
     "name": "stdout",
     "output_type": "stream",
     "text": [
      "mean absolute error = 1.05%, mean squared error = 0.01%, mean absolute percentage error = 1.71%\n"
     ]
    },
    {
     "data": {
      "application/vnd.plotly.v1+json": {
       "config": {
        "linkText": "Export to plot.ly",
        "plotlyServerURL": "https://plot.ly",
        "showLink": false
       },
       "data": [
        {
         "marker": {
          "color": "lightblue"
         },
         "mode": "lines",
         "name": "Trend",
         "type": "scatter",
         "uid": "a58a9135-ef53-49b2-bbc1-622cc6ce1314",
         "x": [
          "2016-01-31",
          "2016-02-29",
          "2016-03-31",
          "2016-04-30",
          "2016-05-31",
          "2016-06-30",
          "2016-07-31",
          "2016-08-31",
          "2016-09-30",
          "2016-10-31",
          "2016-11-30",
          "2016-12-31",
          "2017-01-31",
          "2017-02-28",
          "2017-03-31",
          "2017-04-30",
          "2017-05-31",
          "2017-06-30",
          "2017-07-31",
          "2017-08-31",
          "2017-09-30",
          "2017-10-31",
          "2017-11-30",
          "2017-12-31",
          "2018-01-31",
          "2018-02-28",
          "2018-03-31",
          "2018-04-30",
          "2018-05-31",
          "2018-06-30",
          "2018-07-31",
          "2018-08-31",
          "2018-09-30",
          "2018-10-31",
          "2018-11-30",
          "2018-12-31",
          "2019-01-31"
         ],
         "y": [
          0.8779399014672605,
          0.9013388319999787,
          0.9263485249207014,
          0.9505509978204597,
          0.9658629819642147,
          0.9806829974866964,
          0.9959936514919786,
          0.9891108939027058,
          0.9823052222540188,
          0.9750236330251517,
          0.9667696389691424,
          0.958235202046456,
          0.9496992278237655,
          0.947329832204251,
          0.9458256564456711,
          0.9262530320441952,
          0.9144119273143839,
          0.9028160736891153,
          0.8790860546335537,
          0.8604198703983807,
          0.8451693939154945,
          0.8294830151439265,
          0.8193985331307515,
          0.8139539467882303,
          0.8085087864362948,
          0.7920560920207144,
          0.7738402337259708,
          0.7562119837633157,
          0.737996125468572,
          0.7203678755059169,
          0.7021520172111733,
          0.6839361589164296,
          0.6663079089537745,
          0.6480920506590309,
          0.6304638006963758,
          0.612247942401632,
          0.5940320841068885
         ]
        },
        {
         "line": {
          "color": "pink"
         },
         "mode": "lines",
         "name": "Prophet",
         "type": "scatter",
         "uid": "d3f4b8f6-583a-4d0c-9b8b-b46adfcb424b",
         "x": [
          "2016-01-31",
          "2016-02-29",
          "2016-03-31",
          "2016-04-30",
          "2016-05-31",
          "2016-06-30",
          "2016-07-31",
          "2016-08-31",
          "2016-09-30",
          "2016-10-31",
          "2016-11-30",
          "2016-12-31",
          "2017-01-31",
          "2017-02-28",
          "2017-03-31",
          "2017-04-30",
          "2017-05-31",
          "2017-06-30",
          "2017-07-31",
          "2017-08-31",
          "2017-09-30",
          "2017-10-31",
          "2017-11-30",
          "2017-12-31",
          "2018-01-31",
          "2018-02-28",
          "2018-03-31",
          "2018-04-30",
          "2018-05-31",
          "2018-06-30",
          "2018-07-31",
          "2018-08-31",
          "2018-09-30",
          "2018-10-31",
          "2018-11-30",
          "2018-12-31",
          "2019-01-31"
         ],
         "y": [
          0.8930447607856331,
          0.9114064597391874,
          0.9372089554708545,
          0.9460666523034961,
          0.953698026283319,
          0.9802794027450523,
          0.9970170525174482,
          0.9999999999993491,
          0.9619922774794559,
          0.9593241966764496,
          0.972432593671242,
          0.9916311751128338,
          0.9746532323536167,
          0.9600533616163675,
          0.9522231244711202,
          0.9247551497267622,
          0.9106772947981258,
          0.9003529821182242,
          0.8772848549134523,
          0.8627015561046258,
          0.8302702881859656,
          0.8191339509128677,
          0.8306680145157326,
          0.8368824884386304,
          0.8272707687721792,
          0.804500936313171,
          0.7752929088703135,
          0.7574615116911049,
          0.7412044479060113,
          0.7165785592365083,
          0.6984737252046795,
          0.6801037402854364,
          0.6567456042964699,
          0.642416743591644,
          0.6439981763712032,
          0.6252839041878251,
          0.6060198065985047
         ]
        },
        {
         "marker": {
          "color": "green"
         },
         "mode": "lines+markers",
         "name": "Actual values",
         "type": "scatter",
         "uid": "45532b01-488f-4960-98e6-ff183ad5f76f",
         "x": [
          "2016-01-31",
          "2016-02-29",
          "2016-03-31",
          "2016-04-30",
          "2016-05-31",
          "2016-06-30",
          "2016-07-31",
          "2016-08-31",
          "2016-09-30",
          "2016-10-31",
          "2016-11-30",
          "2016-12-31",
          "2017-01-31",
          "2017-02-28",
          "2017-03-31",
          "2017-04-30",
          "2017-05-31",
          "2017-06-30",
          "2017-07-31",
          "2017-08-31",
          "2017-09-30",
          "2017-10-31",
          "2017-11-30",
          "2017-12-31",
          "2018-01-31",
          "2018-02-28",
          "2018-03-31",
          "2018-04-30",
          "2018-05-31",
          "2018-06-30",
          "2018-07-31",
          "2018-08-31",
          "2018-09-30",
          "2018-10-31",
          "2018-11-30",
          "2018-12-31",
          "2019-01-31"
         ],
         "y": [
          0.8930447607841837,
          0.911406459738495,
          0.9372089554712228,
          0.946066652304327,
          0.9536980262830818,
          0.980279402747626,
          0.9970170525164477,
          1,
          0.9619922774804037,
          0.9593241966756707,
          0.972432593672837,
          0.9916311751155892,
          0.9746532323550371,
          0.9600533616160947,
          0.9522231244717697,
          0.9247551497273917,
          0.910677294798071,
          0.900352982118887,
          0.8772848549127488,
          0.8627015561042706,
          0.8302702881858708,
          0.8191339509139419,
          0.8306680145170111,
          0.8368824884410785,
          0.8272707687718542,
          0.8045009363140713,
          0.7752929088709544,
          0.7574615116914969,
          0.7412044479061366,
          0.7165785592363655,
          0.698473725204249,
          0.6801037402847058,
          0.6567456042954444,
          0.6408779808759922,
          0.6284656049583216,
          0.6091013042109276,
          0.5972855177899673
         ]
        },
        {
         "line": {
          "color": "red"
         },
         "mode": "lines+markers",
         "name": "Forecast",
         "type": "scatter",
         "uid": "58772fb0-5565-4f66-a032-799a0c59c36a",
         "x": [
          "2018-10-31",
          "2018-11-30",
          "2018-12-31",
          "2019-01-31"
         ],
         "y": [
          0.642416743591644,
          0.6439981763712032,
          0.6252839041878251,
          0.6060198065985047
         ]
        }
       ],
       "layout": {
        "showlegend": true,
        "title": {
         "text": "Prophet"
        },
        "yaxis": {
         "title": {
          "text": "Number of active contracts"
         }
        }
       }
      },
      "text/html": [
       "<div id=\"e4e0f8a5-ebd8-464f-a86e-f6d43d08fe84\" style=\"height: 525px; width: 100%;\" class=\"plotly-graph-div\"></div><script type=\"text/javascript\">require([\"plotly\"], function(Plotly) { window.PLOTLYENV=window.PLOTLYENV || {};window.PLOTLYENV.BASE_URL=\"https://plot.ly\";Plotly.newPlot(\"e4e0f8a5-ebd8-464f-a86e-f6d43d08fe84\", [{\"marker\": {\"color\": \"lightblue\"}, \"mode\": \"lines\", \"name\": \"Trend\", \"x\": [\"2016-01-31\", \"2016-02-29\", \"2016-03-31\", \"2016-04-30\", \"2016-05-31\", \"2016-06-30\", \"2016-07-31\", \"2016-08-31\", \"2016-09-30\", \"2016-10-31\", \"2016-11-30\", \"2016-12-31\", \"2017-01-31\", \"2017-02-28\", \"2017-03-31\", \"2017-04-30\", \"2017-05-31\", \"2017-06-30\", \"2017-07-31\", \"2017-08-31\", \"2017-09-30\", \"2017-10-31\", \"2017-11-30\", \"2017-12-31\", \"2018-01-31\", \"2018-02-28\", \"2018-03-31\", \"2018-04-30\", \"2018-05-31\", \"2018-06-30\", \"2018-07-31\", \"2018-08-31\", \"2018-09-30\", \"2018-10-31\", \"2018-11-30\", \"2018-12-31\", \"2019-01-31\"], \"y\": [0.8779399014672605, 0.9013388319999787, 0.9263485249207014, 0.9505509978204597, 0.9658629819642147, 0.9806829974866964, 0.9959936514919786, 0.9891108939027058, 0.9823052222540188, 0.9750236330251517, 0.9667696389691424, 0.958235202046456, 0.9496992278237655, 0.947329832204251, 0.9458256564456711, 0.9262530320441952, 0.9144119273143839, 0.9028160736891153, 0.8790860546335537, 0.8604198703983807, 0.8451693939154945, 0.8294830151439265, 0.8193985331307515, 0.8139539467882303, 0.8085087864362948, 0.7920560920207144, 0.7738402337259708, 0.7562119837633157, 0.737996125468572, 0.7203678755059169, 0.7021520172111733, 0.6839361589164296, 0.6663079089537745, 0.6480920506590309, 0.6304638006963758, 0.612247942401632, 0.5940320841068885], \"type\": \"scatter\", \"uid\": \"a58a9135-ef53-49b2-bbc1-622cc6ce1314\"}, {\"line\": {\"color\": \"pink\"}, \"mode\": \"lines\", \"name\": \"Prophet\", \"x\": [\"2016-01-31\", \"2016-02-29\", \"2016-03-31\", \"2016-04-30\", \"2016-05-31\", \"2016-06-30\", \"2016-07-31\", \"2016-08-31\", \"2016-09-30\", \"2016-10-31\", \"2016-11-30\", \"2016-12-31\", \"2017-01-31\", \"2017-02-28\", \"2017-03-31\", \"2017-04-30\", \"2017-05-31\", \"2017-06-30\", \"2017-07-31\", \"2017-08-31\", \"2017-09-30\", \"2017-10-31\", \"2017-11-30\", \"2017-12-31\", \"2018-01-31\", \"2018-02-28\", \"2018-03-31\", \"2018-04-30\", \"2018-05-31\", \"2018-06-30\", \"2018-07-31\", \"2018-08-31\", \"2018-09-30\", \"2018-10-31\", \"2018-11-30\", \"2018-12-31\", \"2019-01-31\"], \"y\": [0.8930447607856331, 0.9114064597391874, 0.9372089554708545, 0.9460666523034961, 0.953698026283319, 0.9802794027450523, 0.9970170525174482, 0.9999999999993491, 0.9619922774794559, 0.9593241966764496, 0.972432593671242, 0.9916311751128338, 0.9746532323536167, 0.9600533616163675, 0.9522231244711202, 0.9247551497267622, 0.9106772947981258, 0.9003529821182242, 0.8772848549134523, 0.8627015561046258, 0.8302702881859656, 0.8191339509128677, 0.8306680145157326, 0.8368824884386304, 0.8272707687721792, 0.804500936313171, 0.7752929088703135, 0.7574615116911049, 0.7412044479060113, 0.7165785592365083, 0.6984737252046795, 0.6801037402854364, 0.6567456042964699, 0.642416743591644, 0.6439981763712032, 0.6252839041878251, 0.6060198065985047], \"type\": \"scatter\", \"uid\": \"d3f4b8f6-583a-4d0c-9b8b-b46adfcb424b\"}, {\"marker\": {\"color\": \"green\"}, \"mode\": \"lines+markers\", \"name\": \"Actual values\", \"x\": [\"2016-01-31\", \"2016-02-29\", \"2016-03-31\", \"2016-04-30\", \"2016-05-31\", \"2016-06-30\", \"2016-07-31\", \"2016-08-31\", \"2016-09-30\", \"2016-10-31\", \"2016-11-30\", \"2016-12-31\", \"2017-01-31\", \"2017-02-28\", \"2017-03-31\", \"2017-04-30\", \"2017-05-31\", \"2017-06-30\", \"2017-07-31\", \"2017-08-31\", \"2017-09-30\", \"2017-10-31\", \"2017-11-30\", \"2017-12-31\", \"2018-01-31\", \"2018-02-28\", \"2018-03-31\", \"2018-04-30\", \"2018-05-31\", \"2018-06-30\", \"2018-07-31\", \"2018-08-31\", \"2018-09-30\", \"2018-10-31\", \"2018-11-30\", \"2018-12-31\", \"2019-01-31\"], \"y\": [0.8930447607841837, 0.911406459738495, 0.9372089554712228, 0.946066652304327, 0.9536980262830818, 0.980279402747626, 0.9970170525164477, 1.0, 0.9619922774804037, 0.9593241966756707, 0.972432593672837, 0.9916311751155892, 0.9746532323550371, 0.9600533616160947, 0.9522231244717697, 0.9247551497273917, 0.910677294798071, 0.900352982118887, 0.8772848549127488, 0.8627015561042706, 0.8302702881858708, 0.8191339509139419, 0.8306680145170111, 0.8368824884410785, 0.8272707687718542, 0.8045009363140713, 0.7752929088709544, 0.7574615116914969, 0.7412044479061366, 0.7165785592363655, 0.698473725204249, 0.6801037402847058, 0.6567456042954444, 0.6408779808759922, 0.6284656049583216, 0.6091013042109276, 0.5972855177899673], \"type\": \"scatter\", \"uid\": \"45532b01-488f-4960-98e6-ff183ad5f76f\"}, {\"line\": {\"color\": \"red\"}, \"mode\": \"lines+markers\", \"name\": \"Forecast\", \"x\": [\"2018-10-31\", \"2018-11-30\", \"2018-12-31\", \"2019-01-31\"], \"y\": [0.642416743591644, 0.6439981763712032, 0.6252839041878251, 0.6060198065985047], \"type\": \"scatter\", \"uid\": \"58772fb0-5565-4f66-a032-799a0c59c36a\"}], {\"showlegend\": true, \"title\": {\"text\": \"Prophet\"}, \"yaxis\": {\"title\": {\"text\": \"Number of active contracts\"}}}, {\"showLink\": false, \"linkText\": \"Export to plot.ly\", \"plotlyServerURL\": \"https://plot.ly\"})});</script><script type=\"text/javascript\">window.addEventListener(\"resize\", function(){window._Plotly.Plots.resize(document.getElementById(\"e4e0f8a5-ebd8-464f-a86e-f6d43d08fe84\"));});</script>"
      ],
      "text/vnd.plotly.v1+html": [
       "<div id=\"e4e0f8a5-ebd8-464f-a86e-f6d43d08fe84\" style=\"height: 525px; width: 100%;\" class=\"plotly-graph-div\"></div><script type=\"text/javascript\">require([\"plotly\"], function(Plotly) { window.PLOTLYENV=window.PLOTLYENV || {};window.PLOTLYENV.BASE_URL=\"https://plot.ly\";Plotly.newPlot(\"e4e0f8a5-ebd8-464f-a86e-f6d43d08fe84\", [{\"marker\": {\"color\": \"lightblue\"}, \"mode\": \"lines\", \"name\": \"Trend\", \"x\": [\"2016-01-31\", \"2016-02-29\", \"2016-03-31\", \"2016-04-30\", \"2016-05-31\", \"2016-06-30\", \"2016-07-31\", \"2016-08-31\", \"2016-09-30\", \"2016-10-31\", \"2016-11-30\", \"2016-12-31\", \"2017-01-31\", \"2017-02-28\", \"2017-03-31\", \"2017-04-30\", \"2017-05-31\", \"2017-06-30\", \"2017-07-31\", \"2017-08-31\", \"2017-09-30\", \"2017-10-31\", \"2017-11-30\", \"2017-12-31\", \"2018-01-31\", \"2018-02-28\", \"2018-03-31\", \"2018-04-30\", \"2018-05-31\", \"2018-06-30\", \"2018-07-31\", \"2018-08-31\", \"2018-09-30\", \"2018-10-31\", \"2018-11-30\", \"2018-12-31\", \"2019-01-31\"], \"y\": [0.8779399014672605, 0.9013388319999787, 0.9263485249207014, 0.9505509978204597, 0.9658629819642147, 0.9806829974866964, 0.9959936514919786, 0.9891108939027058, 0.9823052222540188, 0.9750236330251517, 0.9667696389691424, 0.958235202046456, 0.9496992278237655, 0.947329832204251, 0.9458256564456711, 0.9262530320441952, 0.9144119273143839, 0.9028160736891153, 0.8790860546335537, 0.8604198703983807, 0.8451693939154945, 0.8294830151439265, 0.8193985331307515, 0.8139539467882303, 0.8085087864362948, 0.7920560920207144, 0.7738402337259708, 0.7562119837633157, 0.737996125468572, 0.7203678755059169, 0.7021520172111733, 0.6839361589164296, 0.6663079089537745, 0.6480920506590309, 0.6304638006963758, 0.612247942401632, 0.5940320841068885], \"type\": \"scatter\", \"uid\": \"a58a9135-ef53-49b2-bbc1-622cc6ce1314\"}, {\"line\": {\"color\": \"pink\"}, \"mode\": \"lines\", \"name\": \"Prophet\", \"x\": [\"2016-01-31\", \"2016-02-29\", \"2016-03-31\", \"2016-04-30\", \"2016-05-31\", \"2016-06-30\", \"2016-07-31\", \"2016-08-31\", \"2016-09-30\", \"2016-10-31\", \"2016-11-30\", \"2016-12-31\", \"2017-01-31\", \"2017-02-28\", \"2017-03-31\", \"2017-04-30\", \"2017-05-31\", \"2017-06-30\", \"2017-07-31\", \"2017-08-31\", \"2017-09-30\", \"2017-10-31\", \"2017-11-30\", \"2017-12-31\", \"2018-01-31\", \"2018-02-28\", \"2018-03-31\", \"2018-04-30\", \"2018-05-31\", \"2018-06-30\", \"2018-07-31\", \"2018-08-31\", \"2018-09-30\", \"2018-10-31\", \"2018-11-30\", \"2018-12-31\", \"2019-01-31\"], \"y\": [0.8930447607856331, 0.9114064597391874, 0.9372089554708545, 0.9460666523034961, 0.953698026283319, 0.9802794027450523, 0.9970170525174482, 0.9999999999993491, 0.9619922774794559, 0.9593241966764496, 0.972432593671242, 0.9916311751128338, 0.9746532323536167, 0.9600533616163675, 0.9522231244711202, 0.9247551497267622, 0.9106772947981258, 0.9003529821182242, 0.8772848549134523, 0.8627015561046258, 0.8302702881859656, 0.8191339509128677, 0.8306680145157326, 0.8368824884386304, 0.8272707687721792, 0.804500936313171, 0.7752929088703135, 0.7574615116911049, 0.7412044479060113, 0.7165785592365083, 0.6984737252046795, 0.6801037402854364, 0.6567456042964699, 0.642416743591644, 0.6439981763712032, 0.6252839041878251, 0.6060198065985047], \"type\": \"scatter\", \"uid\": \"d3f4b8f6-583a-4d0c-9b8b-b46adfcb424b\"}, {\"marker\": {\"color\": \"green\"}, \"mode\": \"lines+markers\", \"name\": \"Actual values\", \"x\": [\"2016-01-31\", \"2016-02-29\", \"2016-03-31\", \"2016-04-30\", \"2016-05-31\", \"2016-06-30\", \"2016-07-31\", \"2016-08-31\", \"2016-09-30\", \"2016-10-31\", \"2016-11-30\", \"2016-12-31\", \"2017-01-31\", \"2017-02-28\", \"2017-03-31\", \"2017-04-30\", \"2017-05-31\", \"2017-06-30\", \"2017-07-31\", \"2017-08-31\", \"2017-09-30\", \"2017-10-31\", \"2017-11-30\", \"2017-12-31\", \"2018-01-31\", \"2018-02-28\", \"2018-03-31\", \"2018-04-30\", \"2018-05-31\", \"2018-06-30\", \"2018-07-31\", \"2018-08-31\", \"2018-09-30\", \"2018-10-31\", \"2018-11-30\", \"2018-12-31\", \"2019-01-31\"], \"y\": [0.8930447607841837, 0.911406459738495, 0.9372089554712228, 0.946066652304327, 0.9536980262830818, 0.980279402747626, 0.9970170525164477, 1.0, 0.9619922774804037, 0.9593241966756707, 0.972432593672837, 0.9916311751155892, 0.9746532323550371, 0.9600533616160947, 0.9522231244717697, 0.9247551497273917, 0.910677294798071, 0.900352982118887, 0.8772848549127488, 0.8627015561042706, 0.8302702881858708, 0.8191339509139419, 0.8306680145170111, 0.8368824884410785, 0.8272707687718542, 0.8045009363140713, 0.7752929088709544, 0.7574615116914969, 0.7412044479061366, 0.7165785592363655, 0.698473725204249, 0.6801037402847058, 0.6567456042954444, 0.6408779808759922, 0.6284656049583216, 0.6091013042109276, 0.5972855177899673], \"type\": \"scatter\", \"uid\": \"45532b01-488f-4960-98e6-ff183ad5f76f\"}, {\"line\": {\"color\": \"red\"}, \"mode\": \"lines+markers\", \"name\": \"Forecast\", \"x\": [\"2018-10-31\", \"2018-11-30\", \"2018-12-31\", \"2019-01-31\"], \"y\": [0.642416743591644, 0.6439981763712032, 0.6252839041878251, 0.6060198065985047], \"type\": \"scatter\", \"uid\": \"58772fb0-5565-4f66-a032-799a0c59c36a\"}], {\"showlegend\": true, \"title\": {\"text\": \"Prophet\"}, \"yaxis\": {\"title\": {\"text\": \"Number of active contracts\"}}}, {\"showLink\": false, \"linkText\": \"Export to plot.ly\", \"plotlyServerURL\": \"https://plot.ly\"})});</script><script type=\"text/javascript\">window.addEventListener(\"resize\", function(){window._Plotly.Plots.resize(document.getElementById(\"e4e0f8a5-ebd8-464f-a86e-f6d43d08fe84\"));});</script>"
      ]
     },
     "metadata": {},
     "output_type": "display_data"
    }
   ],
   "source": [
    "df_prophet = ProphetCover(df, 4, 'Number of active contracts', True, True,\n",
    "                          True)"
   ]
  },
  {
   "cell_type": "markdown",
   "metadata": {},
   "source": [
    "## Cost of Claims"
   ]
  },
  {
   "cell_type": "markdown",
   "metadata": {},
   "source": [
    "### Visualization"
   ]
  },
  {
   "cell_type": "code",
   "execution_count": 36,
   "metadata": {
    "ExecuteTime": {
     "end_time": "2019-07-22T10:47:36.471708Z",
     "start_time": "2019-07-22T10:47:36.038514Z"
    }
   },
   "outputs": [
    {
     "data": {
      "image/png": "[encoded data removed]",
      "text/plain": [
       "<Figure size 1080x360 with 1 Axes>"
      ]
     },
     "metadata": {
      "needs_background": "light"
     },
     "output_type": "display_data"
    }
   ],
   "source": [
    "ds_ = pd.date_range('2016-01', '2019-01', freq='MS').strftime(\"%Y-%m\").tolist()\n",
    "y_ = [\n",
    "    5993033.0, 5801763.0, 6004132.5, 5361492.0, 5637402.0, 5033809.5,\n",
    "    5079910.0, 5577402.5, 5047820.0, 4652605.5, 4638360.5, 3296026.25,\n",
    "    4412070.0, 3121070.5, 3420535.75, 3089713.0, 3825472.25, 3285342.75,\n",
    "    3420716.0, 3834249.0, 3398034.5, 3630389.25, 3398544.0, 2252366.75,\n",
    "    3486149.25, 2804878.5, 2582820.75, 2698253.75, 3022678.75, 2804982.25,\n",
    "    3128099.5, 2771840.75, 2205137.5, 2912647.75, 2174333.25, 1641441.625,\n",
    "    2151462.5\n",
    "]\n",
    "df = pd.DataFrame({'ds': ds_, 'y': y_}).set_index('ds')\n",
    "\n",
    "PlotMovingAverage(\n",
    "    df,\n",
    "    6,\n",
    "    title_='Cost of Claims ',\n",
    "    plot_intervals_=True,\n",
    "    plot_anomalies_=True)"
   ]
  },
  {
   "cell_type": "markdown",
   "metadata": {},
   "source": [
    "### Forecast (with visualization and BoxCox transformation)"
   ]
  },
  {
   "cell_type": "code",
   "execution_count": 37,
   "metadata": {
    "ExecuteTime": {
     "end_time": "2019-07-22T10:47:40.771161Z",
     "start_time": "2019-07-22T10:47:36.473929Z"
    }
   },
   "outputs": [
    {
     "name": "stderr",
     "output_type": "stream",
     "text": [
      "INFO:fbprophet:n_changepoints greater than number of observations.Using 23.\n"
     ]
    },
    {
     "name": "stdout",
     "output_type": "stream",
     "text": [
      "mean absolute percentage error = 14.6%\n"
     ]
    },
    {
     "data": {
      "application/vnd.plotly.v1+json": {
       "config": {
        "linkText": "Export to plot.ly",
        "plotlyServerURL": "https://plot.ly",
        "showLink": false
       },
       "data": [
        {
         "marker": {
          "color": "lightblue"
         },
         "mode": "lines",
         "name": "Trend",
         "type": "scatter",
         "uid": "e3ac3423-b262-4dc6-bbef-10529a5707a4",
         "x": [
          "2016-01-31",
          "2016-02-29",
          "2016-03-31",
          "2016-04-30",
          "2016-05-31",
          "2016-06-30",
          "2016-07-31",
          "2016-08-31",
          "2016-09-30",
          "2016-10-31",
          "2016-11-30",
          "2016-12-31",
          "2017-01-31",
          "2017-02-28",
          "2017-03-31",
          "2017-04-30",
          "2017-05-31",
          "2017-06-30",
          "2017-07-31",
          "2017-08-31",
          "2017-09-30",
          "2017-10-31",
          "2017-11-30",
          "2017-12-31",
          "2018-01-31",
          "2018-02-28",
          "2018-03-31",
          "2018-04-30",
          "2018-05-31",
          "2018-06-30",
          "2018-07-31",
          "2018-08-31",
          "2018-09-30",
          "2018-10-31",
          "2018-11-30",
          "2018-12-31",
          "2019-01-31"
         ],
         "y": [
          6255842.42882728,
          6058900.111329816,
          5848375.567441048,
          5644642.133931242,
          5434117.589706667,
          5230384.159607201,
          5019859.621738896,
          4809335.0826197015,
          4605617.5004791375,
          4395169.98893522,
          4191527.673153032,
          3981097.618566945,
          3770696.4510277035,
          3580664.7436884097,
          3527155.5106217107,
          3475436.655444918,
          3422108.4415341304,
          3370502.8346262327,
          3317177.8022752684,
          3263853.2580287834,
          3212248.862404307,
          3158924.3228808325,
          3107319.9362445134,
          3053995.4068931197,
          3000671.349862669,
          2952507.685448069,
          2899183.6284176186,
          2847579.7022591177,
          2794255.6452286677,
          2742651.719070167,
          2689327.6620397163,
          2636003.6050092657,
          2584399.678850766,
          2531075.621820315,
          2479471.6956618144,
          2426147.638631364,
          2372823.5816009133
         ]
        },
        {
         "line": {
          "color": "pink"
         },
         "mode": "lines",
         "name": "Prophet",
         "type": "scatter",
         "uid": "8484d3a2-ff7a-479c-8fb8-18d1674ab6cc",
         "x": [
          "2016-01-31",
          "2016-02-29",
          "2016-03-31",
          "2016-04-30",
          "2016-05-31",
          "2016-06-30",
          "2016-07-31",
          "2016-08-31",
          "2016-09-30",
          "2016-10-31",
          "2016-11-30",
          "2016-12-31",
          "2017-01-31",
          "2017-02-28",
          "2017-03-31",
          "2017-04-30",
          "2017-05-31",
          "2017-06-30",
          "2017-07-31",
          "2017-08-31",
          "2017-09-30",
          "2017-10-31",
          "2017-11-30",
          "2017-12-31",
          "2018-01-31",
          "2018-02-28",
          "2018-03-31",
          "2018-04-30",
          "2018-05-31",
          "2018-06-30",
          "2018-07-31",
          "2018-08-31",
          "2018-09-30",
          "2018-10-31",
          "2018-11-30",
          "2018-12-31",
          "2019-01-31"
         ],
         "y": [
          6076759.582185959,
          5617901.126221607,
          5920419.091369494,
          5261642.501185081,
          5673837.733054203,
          5050523.438027153,
          5095364.190295977,
          5697723.696015741,
          5129603.352007219,
          4670256.340564885,
          4549603.326335584,
          3112291.4543956933,
          4405953.076584305,
          3388847.128324801,
          3440441.3330935445,
          3257103.417499154,
          3690914.2757275077,
          3309730.8450940466,
          3519023.7694408735,
          3651035.99793457,
          3274052.1018291526,
          3598751.328728935,
          3511053.1767796543,
          2484562.4925215053,
          3311749.9330661483,
          2852096.151287627,
          2721813.0786411464,
          2686569.86315216,
          3111096.762713472,
          2737019.792591219,
          2971246.010828831,
          2769655.330662525,
          2395709.012832626,
          3083559.5229309825,
          2910513.7524659825,
          2046602.1727250186,
          2462869.131299875
         ]
        },
        {
         "marker": {
          "color": "green"
         },
         "mode": "lines+markers",
         "name": "Actual values",
         "type": "scatter",
         "uid": "13d9b705-4668-427b-95b5-de957a783482",
         "x": [
          "2016-01-31",
          "2016-02-29",
          "2016-03-31",
          "2016-04-30",
          "2016-05-31",
          "2016-06-30",
          "2016-07-31",
          "2016-08-31",
          "2016-09-30",
          "2016-10-31",
          "2016-11-30",
          "2016-12-31",
          "2017-01-31",
          "2017-02-28",
          "2017-03-31",
          "2017-04-30",
          "2017-05-31",
          "2017-06-30",
          "2017-07-31",
          "2017-08-31",
          "2017-09-30",
          "2017-10-31",
          "2017-11-30",
          "2017-12-31",
          "2018-01-31",
          "2018-02-28",
          "2018-03-31",
          "2018-04-30",
          "2018-05-31",
          "2018-06-30",
          "2018-07-31",
          "2018-08-31",
          "2018-09-30",
          "2018-10-31",
          "2018-11-30",
          "2018-12-31",
          "2019-01-31"
         ],
         "y": [
          5993033,
          5801763,
          6004132.5,
          5361492,
          5637402,
          5033809.5,
          5079910,
          5577402.5,
          5047820,
          4652605.5,
          4638360.5,
          3296026.2500000005,
          4412070,
          3121070.5,
          3420535.75,
          3089712.9999999995,
          3825472.2499999995,
          3285342.75,
          3420715.9999999995,
          3834248.9999999995,
          3398034.5,
          3630389.2499999995,
          3398544,
          2252366.75,
          3486149.25,
          2804878.5,
          2582820.75,
          2698253.75,
          3022678.75,
          2804982.25,
          3128099.5,
          2771840.75,
          2205137.5,
          2912647.75,
          2174333.25,
          1641441.625,
          2151462.5
         ]
        },
        {
         "line": {
          "color": "red"
         },
         "mode": "lines+markers",
         "name": "Forecast",
         "type": "scatter",
         "uid": "351f33d0-5370-4838-a3f1-7383e9de38d0",
         "x": [
          "2018-08-31",
          "2018-09-30",
          "2018-10-31",
          "2018-11-30",
          "2018-12-31",
          "2019-01-31"
         ],
         "y": [
          2769655.330662525,
          2395709.012832626,
          3083559.5229309825,
          2910513.7524659825,
          2046602.1727250186,
          2462869.131299875
         ]
        }
       ],
       "layout": {
        "showlegend": true,
        "title": {
         "text": "Prophet"
        },
        "yaxis": {
         "title": {
          "text": "Cost of Claims"
         }
        }
       }
      },
      "text/html": [
       "<div id=\"92f75fc4-2fbd-40b9-8b01-a3c470a24837\" style=\"height: 525px; width: 100%;\" class=\"plotly-graph-div\"></div><script type=\"text/javascript\">require([\"plotly\"], function(Plotly) { window.PLOTLYENV=window.PLOTLYENV || {};window.PLOTLYENV.BASE_URL=\"https://plot.ly\";Plotly.newPlot(\"92f75fc4-2fbd-40b9-8b01-a3c470a24837\", [{\"marker\": {\"color\": \"lightblue\"}, \"mode\": \"lines\", \"name\": \"Trend\", \"x\": [\"2016-01-31\", \"2016-02-29\", \"2016-03-31\", \"2016-04-30\", \"2016-05-31\", \"2016-06-30\", \"2016-07-31\", \"2016-08-31\", \"2016-09-30\", \"2016-10-31\", \"2016-11-30\", \"2016-12-31\", \"2017-01-31\", \"2017-02-28\", \"2017-03-31\", \"2017-04-30\", \"2017-05-31\", \"2017-06-30\", \"2017-07-31\", \"2017-08-31\", \"2017-09-30\", \"2017-10-31\", \"2017-11-30\", \"2017-12-31\", \"2018-01-31\", \"2018-02-28\", \"2018-03-31\", \"2018-04-30\", \"2018-05-31\", \"2018-06-30\", \"2018-07-31\", \"2018-08-31\", \"2018-09-30\", \"2018-10-31\", \"2018-11-30\", \"2018-12-31\", \"2019-01-31\"], \"y\": [6255842.42882728, 6058900.111329816, 5848375.567441048, 5644642.133931242, 5434117.589706667, 5230384.159607201, 5019859.621738896, 4809335.0826197015, 4605617.5004791375, 4395169.98893522, 4191527.673153032, 3981097.618566945, 3770696.4510277035, 3580664.7436884097, 3527155.5106217107, 3475436.655444918, 3422108.4415341304, 3370502.8346262327, 3317177.8022752684, 3263853.2580287834, 3212248.862404307, 3158924.3228808325, 3107319.9362445134, 3053995.4068931197, 3000671.349862669, 2952507.685448069, 2899183.6284176186, 2847579.7022591177, 2794255.6452286677, 2742651.719070167, 2689327.6620397163, 2636003.6050092657, 2584399.678850766, 2531075.621820315, 2479471.6956618144, 2426147.638631364, 2372823.5816009133], \"type\": \"scatter\", \"uid\": \"e3ac3423-b262-4dc6-bbef-10529a5707a4\"}, {\"line\": {\"color\": \"pink\"}, \"mode\": \"lines\", \"name\": \"Prophet\", \"x\": [\"2016-01-31\", \"2016-02-29\", \"2016-03-31\", \"2016-04-30\", \"2016-05-31\", \"2016-06-30\", \"2016-07-31\", \"2016-08-31\", \"2016-09-30\", \"2016-10-31\", \"2016-11-30\", \"2016-12-31\", \"2017-01-31\", \"2017-02-28\", \"2017-03-31\", \"2017-04-30\", \"2017-05-31\", \"2017-06-30\", \"2017-07-31\", \"2017-08-31\", \"2017-09-30\", \"2017-10-31\", \"2017-11-30\", \"2017-12-31\", \"2018-01-31\", \"2018-02-28\", \"2018-03-31\", \"2018-04-30\", \"2018-05-31\", \"2018-06-30\", \"2018-07-31\", \"2018-08-31\", \"2018-09-30\", \"2018-10-31\", \"2018-11-30\", \"2018-12-31\", \"2019-01-31\"], \"y\": [6076759.582185959, 5617901.126221607, 5920419.091369494, 5261642.501185081, 5673837.733054203, 5050523.438027153, 5095364.190295977, 5697723.696015741, 5129603.352007219, 4670256.340564885, 4549603.326335584, 3112291.4543956933, 4405953.076584305, 3388847.128324801, 3440441.3330935445, 3257103.417499154, 3690914.2757275077, 3309730.8450940466, 3519023.7694408735, 3651035.99793457, 3274052.1018291526, 3598751.328728935, 3511053.1767796543, 2484562.4925215053, 3311749.9330661483, 2852096.151287627, 2721813.0786411464, 2686569.86315216, 3111096.762713472, 2737019.792591219, 2971246.010828831, 2769655.330662525, 2395709.012832626, 3083559.5229309825, 2910513.7524659825, 2046602.1727250186, 2462869.131299875], \"type\": \"scatter\", \"uid\": \"8484d3a2-ff7a-479c-8fb8-18d1674ab6cc\"}, {\"marker\": {\"color\": \"green\"}, \"mode\": \"lines+markers\", \"name\": \"Actual values\", \"x\": [\"2016-01-31\", \"2016-02-29\", \"2016-03-31\", \"2016-04-30\", \"2016-05-31\", \"2016-06-30\", \"2016-07-31\", \"2016-08-31\", \"2016-09-30\", \"2016-10-31\", \"2016-11-30\", \"2016-12-31\", \"2017-01-31\", \"2017-02-28\", \"2017-03-31\", \"2017-04-30\", \"2017-05-31\", \"2017-06-30\", \"2017-07-31\", \"2017-08-31\", \"2017-09-30\", \"2017-10-31\", \"2017-11-30\", \"2017-12-31\", \"2018-01-31\", \"2018-02-28\", \"2018-03-31\", \"2018-04-30\", \"2018-05-31\", \"2018-06-30\", \"2018-07-31\", \"2018-08-31\", \"2018-09-30\", \"2018-10-31\", \"2018-11-30\", \"2018-12-31\", \"2019-01-31\"], \"y\": [5993033.0, 5801763.0, 6004132.5, 5361492.0, 5637402.0, 5033809.5, 5079910.0, 5577402.5, 5047820.0, 4652605.5, 4638360.5, 3296026.2500000005, 4412070.0, 3121070.5, 3420535.75, 3089712.9999999995, 3825472.2499999995, 3285342.75, 3420715.9999999995, 3834248.9999999995, 3398034.5, 3630389.2499999995, 3398544.0, 2252366.75, 3486149.25, 2804878.5, 2582820.75, 2698253.75, 3022678.75, 2804982.25, 3128099.5, 2771840.75, 2205137.5, 2912647.75, 2174333.25, 1641441.625, 2151462.5], \"type\": \"scatter\", \"uid\": \"13d9b705-4668-427b-95b5-de957a783482\"}, {\"line\": {\"color\": \"red\"}, \"mode\": \"lines+markers\", \"name\": \"Forecast\", \"x\": [\"2018-08-31\", \"2018-09-30\", \"2018-10-31\", \"2018-11-30\", \"2018-12-31\", \"2019-01-31\"], \"y\": [2769655.330662525, 2395709.012832626, 3083559.5229309825, 2910513.7524659825, 2046602.1727250186, 2462869.131299875], \"type\": \"scatter\", \"uid\": \"351f33d0-5370-4838-a3f1-7383e9de38d0\"}], {\"showlegend\": true, \"title\": {\"text\": \"Prophet\"}, \"yaxis\": {\"title\": {\"text\": \"Cost of Claims\"}}}, {\"showLink\": false, \"linkText\": \"Export to plot.ly\", \"plotlyServerURL\": \"https://plot.ly\"})});</script><script type=\"text/javascript\">window.addEventListener(\"resize\", function(){window._Plotly.Plots.resize(document.getElementById(\"92f75fc4-2fbd-40b9-8b01-a3c470a24837\"));});</script>"
      ],
      "text/vnd.plotly.v1+html": [
       "<div id=\"92f75fc4-2fbd-40b9-8b01-a3c470a24837\" style=\"height: 525px; width: 100%;\" class=\"plotly-graph-div\"></div><script type=\"text/javascript\">require([\"plotly\"], function(Plotly) { window.PLOTLYENV=window.PLOTLYENV || {};window.PLOTLYENV.BASE_URL=\"https://plot.ly\";Plotly.newPlot(\"92f75fc4-2fbd-40b9-8b01-a3c470a24837\", [{\"marker\": {\"color\": \"lightblue\"}, \"mode\": \"lines\", \"name\": \"Trend\", \"x\": [\"2016-01-31\", \"2016-02-29\", \"2016-03-31\", \"2016-04-30\", \"2016-05-31\", \"2016-06-30\", \"2016-07-31\", \"2016-08-31\", \"2016-09-30\", \"2016-10-31\", \"2016-11-30\", \"2016-12-31\", \"2017-01-31\", \"2017-02-28\", \"2017-03-31\", \"2017-04-30\", \"2017-05-31\", \"2017-06-30\", \"2017-07-31\", \"2017-08-31\", \"2017-09-30\", \"2017-10-31\", \"2017-11-30\", \"2017-12-31\", \"2018-01-31\", \"2018-02-28\", \"2018-03-31\", \"2018-04-30\", \"2018-05-31\", \"2018-06-30\", \"2018-07-31\", \"2018-08-31\", \"2018-09-30\", \"2018-10-31\", \"2018-11-30\", \"2018-12-31\", \"2019-01-31\"], \"y\": [6255842.42882728, 6058900.111329816, 5848375.567441048, 5644642.133931242, 5434117.589706667, 5230384.159607201, 5019859.621738896, 4809335.0826197015, 4605617.5004791375, 4395169.98893522, 4191527.673153032, 3981097.618566945, 3770696.4510277035, 3580664.7436884097, 3527155.5106217107, 3475436.655444918, 3422108.4415341304, 3370502.8346262327, 3317177.8022752684, 3263853.2580287834, 3212248.862404307, 3158924.3228808325, 3107319.9362445134, 3053995.4068931197, 3000671.349862669, 2952507.685448069, 2899183.6284176186, 2847579.7022591177, 2794255.6452286677, 2742651.719070167, 2689327.6620397163, 2636003.6050092657, 2584399.678850766, 2531075.621820315, 2479471.6956618144, 2426147.638631364, 2372823.5816009133], \"type\": \"scatter\", \"uid\": \"e3ac3423-b262-4dc6-bbef-10529a5707a4\"}, {\"line\": {\"color\": \"pink\"}, \"mode\": \"lines\", \"name\": \"Prophet\", \"x\": [\"2016-01-31\", \"2016-02-29\", \"2016-03-31\", \"2016-04-30\", \"2016-05-31\", \"2016-06-30\", \"2016-07-31\", \"2016-08-31\", \"2016-09-30\", \"2016-10-31\", \"2016-11-30\", \"2016-12-31\", \"2017-01-31\", \"2017-02-28\", \"2017-03-31\", \"2017-04-30\", \"2017-05-31\", \"2017-06-30\", \"2017-07-31\", \"2017-08-31\", \"2017-09-30\", \"2017-10-31\", \"2017-11-30\", \"2017-12-31\", \"2018-01-31\", \"2018-02-28\", \"2018-03-31\", \"2018-04-30\", \"2018-05-31\", \"2018-06-30\", \"2018-07-31\", \"2018-08-31\", \"2018-09-30\", \"2018-10-31\", \"2018-11-30\", \"2018-12-31\", \"2019-01-31\"], \"y\": [6076759.582185959, 5617901.126221607, 5920419.091369494, 5261642.501185081, 5673837.733054203, 5050523.438027153, 5095364.190295977, 5697723.696015741, 5129603.352007219, 4670256.340564885, 4549603.326335584, 3112291.4543956933, 4405953.076584305, 3388847.128324801, 3440441.3330935445, 3257103.417499154, 3690914.2757275077, 3309730.8450940466, 3519023.7694408735, 3651035.99793457, 3274052.1018291526, 3598751.328728935, 3511053.1767796543, 2484562.4925215053, 3311749.9330661483, 2852096.151287627, 2721813.0786411464, 2686569.86315216, 3111096.762713472, 2737019.792591219, 2971246.010828831, 2769655.330662525, 2395709.012832626, 3083559.5229309825, 2910513.7524659825, 2046602.1727250186, 2462869.131299875], \"type\": \"scatter\", \"uid\": \"8484d3a2-ff7a-479c-8fb8-18d1674ab6cc\"}, {\"marker\": {\"color\": \"green\"}, \"mode\": \"lines+markers\", \"name\": \"Actual values\", \"x\": [\"2016-01-31\", \"2016-02-29\", \"2016-03-31\", \"2016-04-30\", \"2016-05-31\", \"2016-06-30\", \"2016-07-31\", \"2016-08-31\", \"2016-09-30\", \"2016-10-31\", \"2016-11-30\", \"2016-12-31\", \"2017-01-31\", \"2017-02-28\", \"2017-03-31\", \"2017-04-30\", \"2017-05-31\", \"2017-06-30\", \"2017-07-31\", \"2017-08-31\", \"2017-09-30\", \"2017-10-31\", \"2017-11-30\", \"2017-12-31\", \"2018-01-31\", \"2018-02-28\", \"2018-03-31\", \"2018-04-30\", \"2018-05-31\", \"2018-06-30\", \"2018-07-31\", \"2018-08-31\", \"2018-09-30\", \"2018-10-31\", \"2018-11-30\", \"2018-12-31\", \"2019-01-31\"], \"y\": [5993033.0, 5801763.0, 6004132.5, 5361492.0, 5637402.0, 5033809.5, 5079910.0, 5577402.5, 5047820.0, 4652605.5, 4638360.5, 3296026.2500000005, 4412070.0, 3121070.5, 3420535.75, 3089712.9999999995, 3825472.2499999995, 3285342.75, 3420715.9999999995, 3834248.9999999995, 3398034.5, 3630389.2499999995, 3398544.0, 2252366.75, 3486149.25, 2804878.5, 2582820.75, 2698253.75, 3022678.75, 2804982.25, 3128099.5, 2771840.75, 2205137.5, 2912647.75, 2174333.25, 1641441.625, 2151462.5], \"type\": \"scatter\", \"uid\": \"13d9b705-4668-427b-95b5-de957a783482\"}, {\"line\": {\"color\": \"red\"}, \"mode\": \"lines+markers\", \"name\": \"Forecast\", \"x\": [\"2018-08-31\", \"2018-09-30\", \"2018-10-31\", \"2018-11-30\", \"2018-12-31\", \"2019-01-31\"], \"y\": [2769655.330662525, 2395709.012832626, 3083559.5229309825, 2910513.7524659825, 2046602.1727250186, 2462869.131299875], \"type\": \"scatter\", \"uid\": \"351f33d0-5370-4838-a3f1-7383e9de38d0\"}], {\"showlegend\": true, \"title\": {\"text\": \"Prophet\"}, \"yaxis\": {\"title\": {\"text\": \"Cost of Claims\"}}}, {\"showLink\": false, \"linkText\": \"Export to plot.ly\", \"plotlyServerURL\": \"https://plot.ly\"})});</script><script type=\"text/javascript\">window.addEventListener(\"resize\", function(){window._Plotly.Plots.resize(document.getElementById(\"92f75fc4-2fbd-40b9-8b01-a3c470a24837\"));});</script>"
      ]
     },
     "metadata": {},
     "output_type": "display_data"
    },
    {
     "name": "stderr",
     "output_type": "stream",
     "text": [
      "INFO:fbprophet:n_changepoints greater than number of observations.Using 23.\n"
     ]
    },
    {
     "name": "stdout",
     "output_type": "stream",
     "text": [
      "mean absolute percentage error = 21.5%\n"
     ]
    },
    {
     "data": {
      "application/vnd.plotly.v1+json": {
       "config": {
        "linkText": "Export to plot.ly",
        "plotlyServerURL": "https://plot.ly",
        "showLink": false
       },
       "data": [
        {
         "marker": {
          "color": "lightblue"
         },
         "mode": "lines",
         "name": "Trend",
         "type": "scatter",
         "uid": "8a617757-0e5d-4c79-9794-e7826cd3c7ef",
         "x": [
          "2016-01-31",
          "2016-02-29",
          "2016-03-31",
          "2016-04-30",
          "2016-05-31",
          "2016-06-30",
          "2016-07-31",
          "2016-08-31",
          "2016-09-30",
          "2016-10-31",
          "2016-11-30",
          "2016-12-31",
          "2017-01-31",
          "2017-02-28",
          "2017-03-31",
          "2017-04-30",
          "2017-05-31",
          "2017-06-30",
          "2017-07-31",
          "2017-08-31",
          "2017-09-30",
          "2017-10-31",
          "2017-11-30",
          "2017-12-31",
          "2018-01-31",
          "2018-02-28",
          "2018-03-31",
          "2018-04-30",
          "2018-05-31",
          "2018-06-30",
          "2018-07-31",
          "2018-08-31",
          "2018-09-30",
          "2018-10-31",
          "2018-11-30",
          "2018-12-31",
          "2019-01-31"
         ],
         "y": [
          6258430.640323512,
          5990351.436054506,
          5720105.131507336,
          5473521.216813155,
          5233081.395103209,
          5013349.028160083,
          4798762.923741698,
          4595999.425692448,
          4410287.231421473,
          4228532.267093059,
          4061832.3595013977,
          3898466.340491542,
          3743565.379798655,
          3610485.37209837,
          3470305.42860694,
          3341332.0185110294,
          3258203.128257705,
          3203146.113330245,
          3147610.4020528444,
          3093382.7089609727,
          3042128.5157269617,
          2990362.2416580943,
          2941354.529413186,
          2891807.831177475,
          2843344.015366789,
          2800476.834310389,
          2753994.5299157314,
          2709965.103273004,
          2665427.4969771253,
          2623231.2036854066,
          2580538.932412057,
          2538748.3077873,
          2499142.2397657237,
          2459058.266387086,
          2421061.970821195,
          2382599.511419203,
          2344930.0895110723
         ]
        },
        {
         "line": {
          "color": "pink"
         },
         "mode": "lines",
         "name": "Prophet",
         "type": "scatter",
         "uid": "cea67314-3df2-4c37-a3ea-c63f643e4302",
         "x": [
          "2016-01-31",
          "2016-02-29",
          "2016-03-31",
          "2016-04-30",
          "2016-05-31",
          "2016-06-30",
          "2016-07-31",
          "2016-08-31",
          "2016-09-30",
          "2016-10-31",
          "2016-11-30",
          "2016-12-31",
          "2017-01-31",
          "2017-02-28",
          "2017-03-31",
          "2017-04-30",
          "2017-05-31",
          "2017-06-30",
          "2017-07-31",
          "2017-08-31",
          "2017-09-30",
          "2017-10-31",
          "2017-11-30",
          "2017-12-31",
          "2018-01-31",
          "2018-02-28",
          "2018-03-31",
          "2018-04-30",
          "2018-05-31",
          "2018-06-30",
          "2018-07-31",
          "2018-08-31",
          "2018-09-30",
          "2018-10-31",
          "2018-11-30",
          "2018-12-31",
          "2019-01-31"
         ],
         "y": [
          6237249.120187744,
          5984262.969943855,
          5771946.238589628,
          5371449.599783226,
          5545799.717043153,
          5001892.504645362,
          4859990.388345801,
          5192903.860904761,
          4782418.556130798,
          4481118.975590292,
          4583497.71163817,
          3312759.15240932,
          4474731.667795672,
          3236755.893645127,
          3532466.3299945444,
          3143950.681992549,
          3861956.6747516496,
          3277193.5189424693,
          3455850.4794778065,
          3933362.4551446834,
          3472798.581549203,
          3695434.1422078446,
          3421277.519284874,
          2248612.934772394,
          3467749.997703217,
          2744774.5913616763,
          2538140.451174476,
          2667926.711724866,
          3011668.0036830213,
          2814783.386370143,
          3136317.411641725,
          3219410.197385754,
          2818201.8061988857,
          3661767.120481905,
          2703551.1511315457,
          1770686.9814931802,
          2734571.226058975
         ]
        },
        {
         "marker": {
          "color": "green"
         },
         "mode": "lines+markers",
         "name": "Actual values",
         "type": "scatter",
         "uid": "475b4657-a96d-411d-ac21-3ea698c5b3ea",
         "x": [
          "2016-01-31",
          "2016-02-29",
          "2016-03-31",
          "2016-04-30",
          "2016-05-31",
          "2016-06-30",
          "2016-07-31",
          "2016-08-31",
          "2016-09-30",
          "2016-10-31",
          "2016-11-30",
          "2016-12-31",
          "2017-01-31",
          "2017-02-28",
          "2017-03-31",
          "2017-04-30",
          "2017-05-31",
          "2017-06-30",
          "2017-07-31",
          "2017-08-31",
          "2017-09-30",
          "2017-10-31",
          "2017-11-30",
          "2017-12-31",
          "2018-01-31",
          "2018-02-28",
          "2018-03-31",
          "2018-04-30",
          "2018-05-31",
          "2018-06-30",
          "2018-07-31",
          "2018-08-31",
          "2018-09-30",
          "2018-10-31",
          "2018-11-30",
          "2018-12-31",
          "2019-01-31"
         ],
         "y": [
          5993033,
          5801763,
          6004132.5,
          5361492,
          5637402,
          5033809.5,
          5079910,
          5577402.5,
          5047820,
          4652605.5,
          4638360.5,
          3296026.2500000005,
          4412070,
          3121070.5,
          3420535.75,
          3089712.9999999995,
          3825472.2499999995,
          3285342.75,
          3420715.9999999995,
          3834248.9999999995,
          3398034.5,
          3630389.2499999995,
          3398544,
          2252366.75,
          3486149.25,
          2804878.5,
          2582820.75,
          2698253.75,
          3022678.75,
          2804982.25,
          3128099.5,
          2771840.75,
          2205137.5,
          2912647.75,
          2174333.25,
          1641441.625,
          2151462.5
         ]
        },
        {
         "line": {
          "color": "red"
         },
         "mode": "lines+markers",
         "name": "Forecast",
         "type": "scatter",
         "uid": "532d6592-e795-4236-a619-dd26db2f3ac3",
         "x": [
          "2018-08-31",
          "2018-09-30",
          "2018-10-31",
          "2018-11-30",
          "2018-12-31",
          "2019-01-31"
         ],
         "y": [
          3219410.197385754,
          2818201.8061988857,
          3661767.120481905,
          2703551.1511315457,
          1770686.9814931802,
          2734571.226058975
         ]
        }
       ],
       "layout": {
        "showlegend": true,
        "title": {
         "text": "Prophet with BoxCox"
        },
        "yaxis": {
         "title": {
          "text": "Cost of Claims"
         }
        }
       }
      },
      "text/html": [
       "<div id=\"b9e5b162-bab9-454b-b254-9ada991fff26\" style=\"height: 525px; width: 100%;\" class=\"plotly-graph-div\"></div><script type=\"text/javascript\">require([\"plotly\"], function(Plotly) { window.PLOTLYENV=window.PLOTLYENV || {};window.PLOTLYENV.BASE_URL=\"https://plot.ly\";Plotly.newPlot(\"b9e5b162-bab9-454b-b254-9ada991fff26\", [{\"marker\": {\"color\": \"lightblue\"}, \"mode\": \"lines\", \"name\": \"Trend\", \"x\": [\"2016-01-31\", \"2016-02-29\", \"2016-03-31\", \"2016-04-30\", \"2016-05-31\", \"2016-06-30\", \"2016-07-31\", \"2016-08-31\", \"2016-09-30\", \"2016-10-31\", \"2016-11-30\", \"2016-12-31\", \"2017-01-31\", \"2017-02-28\", \"2017-03-31\", \"2017-04-30\", \"2017-05-31\", \"2017-06-30\", \"2017-07-31\", \"2017-08-31\", \"2017-09-30\", \"2017-10-31\", \"2017-11-30\", \"2017-12-31\", \"2018-01-31\", \"2018-02-28\", \"2018-03-31\", \"2018-04-30\", \"2018-05-31\", \"2018-06-30\", \"2018-07-31\", \"2018-08-31\", \"2018-09-30\", \"2018-10-31\", \"2018-11-30\", \"2018-12-31\", \"2019-01-31\"], \"y\": [6258430.640323512, 5990351.436054506, 5720105.131507336, 5473521.216813155, 5233081.395103209, 5013349.028160083, 4798762.923741698, 4595999.425692448, 4410287.231421473, 4228532.267093059, 4061832.3595013977, 3898466.340491542, 3743565.379798655, 3610485.37209837, 3470305.42860694, 3341332.0185110294, 3258203.128257705, 3203146.113330245, 3147610.4020528444, 3093382.7089609727, 3042128.5157269617, 2990362.2416580943, 2941354.529413186, 2891807.831177475, 2843344.015366789, 2800476.834310389, 2753994.5299157314, 2709965.103273004, 2665427.4969771253, 2623231.2036854066, 2580538.932412057, 2538748.3077873, 2499142.2397657237, 2459058.266387086, 2421061.970821195, 2382599.511419203, 2344930.0895110723], \"type\": \"scatter\", \"uid\": \"8a617757-0e5d-4c79-9794-e7826cd3c7ef\"}, {\"line\": {\"color\": \"pink\"}, \"mode\": \"lines\", \"name\": \"Prophet\", \"x\": [\"2016-01-31\", \"2016-02-29\", \"2016-03-31\", \"2016-04-30\", \"2016-05-31\", \"2016-06-30\", \"2016-07-31\", \"2016-08-31\", \"2016-09-30\", \"2016-10-31\", \"2016-11-30\", \"2016-12-31\", \"2017-01-31\", \"2017-02-28\", \"2017-03-31\", \"2017-04-30\", \"2017-05-31\", \"2017-06-30\", \"2017-07-31\", \"2017-08-31\", \"2017-09-30\", \"2017-10-31\", \"2017-11-30\", \"2017-12-31\", \"2018-01-31\", \"2018-02-28\", \"2018-03-31\", \"2018-04-30\", \"2018-05-31\", \"2018-06-30\", \"2018-07-31\", \"2018-08-31\", \"2018-09-30\", \"2018-10-31\", \"2018-11-30\", \"2018-12-31\", \"2019-01-31\"], \"y\": [6237249.120187744, 5984262.969943855, 5771946.238589628, 5371449.599783226, 5545799.717043153, 5001892.504645362, 4859990.388345801, 5192903.860904761, 4782418.556130798, 4481118.975590292, 4583497.71163817, 3312759.15240932, 4474731.667795672, 3236755.893645127, 3532466.3299945444, 3143950.681992549, 3861956.6747516496, 3277193.5189424693, 3455850.4794778065, 3933362.4551446834, 3472798.581549203, 3695434.1422078446, 3421277.519284874, 2248612.934772394, 3467749.997703217, 2744774.5913616763, 2538140.451174476, 2667926.711724866, 3011668.0036830213, 2814783.386370143, 3136317.411641725, 3219410.197385754, 2818201.8061988857, 3661767.120481905, 2703551.1511315457, 1770686.9814931802, 2734571.226058975], \"type\": \"scatter\", \"uid\": \"cea67314-3df2-4c37-a3ea-c63f643e4302\"}, {\"marker\": {\"color\": \"green\"}, \"mode\": \"lines+markers\", \"name\": \"Actual values\", \"x\": [\"2016-01-31\", \"2016-02-29\", \"2016-03-31\", \"2016-04-30\", \"2016-05-31\", \"2016-06-30\", \"2016-07-31\", \"2016-08-31\", \"2016-09-30\", \"2016-10-31\", \"2016-11-30\", \"2016-12-31\", \"2017-01-31\", \"2017-02-28\", \"2017-03-31\", \"2017-04-30\", \"2017-05-31\", \"2017-06-30\", \"2017-07-31\", \"2017-08-31\", \"2017-09-30\", \"2017-10-31\", \"2017-11-30\", \"2017-12-31\", \"2018-01-31\", \"2018-02-28\", \"2018-03-31\", \"2018-04-30\", \"2018-05-31\", \"2018-06-30\", \"2018-07-31\", \"2018-08-31\", \"2018-09-30\", \"2018-10-31\", \"2018-11-30\", \"2018-12-31\", \"2019-01-31\"], \"y\": [5993033.0, 5801763.0, 6004132.5, 5361492.0, 5637402.0, 5033809.5, 5079910.0, 5577402.5, 5047820.0, 4652605.5, 4638360.5, 3296026.2500000005, 4412070.0, 3121070.5, 3420535.75, 3089712.9999999995, 3825472.2499999995, 3285342.75, 3420715.9999999995, 3834248.9999999995, 3398034.5, 3630389.2499999995, 3398544.0, 2252366.75, 3486149.25, 2804878.5, 2582820.75, 2698253.75, 3022678.75, 2804982.25, 3128099.5, 2771840.75, 2205137.5, 2912647.75, 2174333.25, 1641441.625, 2151462.5], \"type\": \"scatter\", \"uid\": \"475b4657-a96d-411d-ac21-3ea698c5b3ea\"}, {\"line\": {\"color\": \"red\"}, \"mode\": \"lines+markers\", \"name\": \"Forecast\", \"x\": [\"2018-08-31\", \"2018-09-30\", \"2018-10-31\", \"2018-11-30\", \"2018-12-31\", \"2019-01-31\"], \"y\": [3219410.197385754, 2818201.8061988857, 3661767.120481905, 2703551.1511315457, 1770686.9814931802, 2734571.226058975], \"type\": \"scatter\", \"uid\": \"532d6592-e795-4236-a619-dd26db2f3ac3\"}], {\"showlegend\": true, \"title\": {\"text\": \"Prophet with BoxCox\"}, \"yaxis\": {\"title\": {\"text\": \"Cost of Claims\"}}}, {\"showLink\": false, \"linkText\": \"Export to plot.ly\", \"plotlyServerURL\": \"https://plot.ly\"})});</script><script type=\"text/javascript\">window.addEventListener(\"resize\", function(){window._Plotly.Plots.resize(document.getElementById(\"b9e5b162-bab9-454b-b254-9ada991fff26\"));});</script>"
      ],
      "text/vnd.plotly.v1+html": [
       "<div id=\"b9e5b162-bab9-454b-b254-9ada991fff26\" style=\"height: 525px; width: 100%;\" class=\"plotly-graph-div\"></div><script type=\"text/javascript\">require([\"plotly\"], function(Plotly) { window.PLOTLYENV=window.PLOTLYENV || {};window.PLOTLYENV.BASE_URL=\"https://plot.ly\";Plotly.newPlot(\"b9e5b162-bab9-454b-b254-9ada991fff26\", [{\"marker\": {\"color\": \"lightblue\"}, \"mode\": \"lines\", \"name\": \"Trend\", \"x\": [\"2016-01-31\", \"2016-02-29\", \"2016-03-31\", \"2016-04-30\", \"2016-05-31\", \"2016-06-30\", \"2016-07-31\", \"2016-08-31\", \"2016-09-30\", \"2016-10-31\", \"2016-11-30\", \"2016-12-31\", \"2017-01-31\", \"2017-02-28\", \"2017-03-31\", \"2017-04-30\", \"2017-05-31\", \"2017-06-30\", \"2017-07-31\", \"2017-08-31\", \"2017-09-30\", \"2017-10-31\", \"2017-11-30\", \"2017-12-31\", \"2018-01-31\", \"2018-02-28\", \"2018-03-31\", \"2018-04-30\", \"2018-05-31\", \"2018-06-30\", \"2018-07-31\", \"2018-08-31\", \"2018-09-30\", \"2018-10-31\", \"2018-11-30\", \"2018-12-31\", \"2019-01-31\"], \"y\": [6258430.640323512, 5990351.436054506, 5720105.131507336, 5473521.216813155, 5233081.395103209, 5013349.028160083, 4798762.923741698, 4595999.425692448, 4410287.231421473, 4228532.267093059, 4061832.3595013977, 3898466.340491542, 3743565.379798655, 3610485.37209837, 3470305.42860694, 3341332.0185110294, 3258203.128257705, 3203146.113330245, 3147610.4020528444, 3093382.7089609727, 3042128.5157269617, 2990362.2416580943, 2941354.529413186, 2891807.831177475, 2843344.015366789, 2800476.834310389, 2753994.5299157314, 2709965.103273004, 2665427.4969771253, 2623231.2036854066, 2580538.932412057, 2538748.3077873, 2499142.2397657237, 2459058.266387086, 2421061.970821195, 2382599.511419203, 2344930.0895110723], \"type\": \"scatter\", \"uid\": \"8a617757-0e5d-4c79-9794-e7826cd3c7ef\"}, {\"line\": {\"color\": \"pink\"}, \"mode\": \"lines\", \"name\": \"Prophet\", \"x\": [\"2016-01-31\", \"2016-02-29\", \"2016-03-31\", \"2016-04-30\", \"2016-05-31\", \"2016-06-30\", \"2016-07-31\", \"2016-08-31\", \"2016-09-30\", \"2016-10-31\", \"2016-11-30\", \"2016-12-31\", \"2017-01-31\", \"2017-02-28\", \"2017-03-31\", \"2017-04-30\", \"2017-05-31\", \"2017-06-30\", \"2017-07-31\", \"2017-08-31\", \"2017-09-30\", \"2017-10-31\", \"2017-11-30\", \"2017-12-31\", \"2018-01-31\", \"2018-02-28\", \"2018-03-31\", \"2018-04-30\", \"2018-05-31\", \"2018-06-30\", \"2018-07-31\", \"2018-08-31\", \"2018-09-30\", \"2018-10-31\", \"2018-11-30\", \"2018-12-31\", \"2019-01-31\"], \"y\": [6237249.120187744, 5984262.969943855, 5771946.238589628, 5371449.599783226, 5545799.717043153, 5001892.504645362, 4859990.388345801, 5192903.860904761, 4782418.556130798, 4481118.975590292, 4583497.71163817, 3312759.15240932, 4474731.667795672, 3236755.893645127, 3532466.3299945444, 3143950.681992549, 3861956.6747516496, 3277193.5189424693, 3455850.4794778065, 3933362.4551446834, 3472798.581549203, 3695434.1422078446, 3421277.519284874, 2248612.934772394, 3467749.997703217, 2744774.5913616763, 2538140.451174476, 2667926.711724866, 3011668.0036830213, 2814783.386370143, 3136317.411641725, 3219410.197385754, 2818201.8061988857, 3661767.120481905, 2703551.1511315457, 1770686.9814931802, 2734571.226058975], \"type\": \"scatter\", \"uid\": \"cea67314-3df2-4c37-a3ea-c63f643e4302\"}, {\"marker\": {\"color\": \"green\"}, \"mode\": \"lines+markers\", \"name\": \"Actual values\", \"x\": [\"2016-01-31\", \"2016-02-29\", \"2016-03-31\", \"2016-04-30\", \"2016-05-31\", \"2016-06-30\", \"2016-07-31\", \"2016-08-31\", \"2016-09-30\", \"2016-10-31\", \"2016-11-30\", \"2016-12-31\", \"2017-01-31\", \"2017-02-28\", \"2017-03-31\", \"2017-04-30\", \"2017-05-31\", \"2017-06-30\", \"2017-07-31\", \"2017-08-31\", \"2017-09-30\", \"2017-10-31\", \"2017-11-30\", \"2017-12-31\", \"2018-01-31\", \"2018-02-28\", \"2018-03-31\", \"2018-04-30\", \"2018-05-31\", \"2018-06-30\", \"2018-07-31\", \"2018-08-31\", \"2018-09-30\", \"2018-10-31\", \"2018-11-30\", \"2018-12-31\", \"2019-01-31\"], \"y\": [5993033.0, 5801763.0, 6004132.5, 5361492.0, 5637402.0, 5033809.5, 5079910.0, 5577402.5, 5047820.0, 4652605.5, 4638360.5, 3296026.2500000005, 4412070.0, 3121070.5, 3420535.75, 3089712.9999999995, 3825472.2499999995, 3285342.75, 3420715.9999999995, 3834248.9999999995, 3398034.5, 3630389.2499999995, 3398544.0, 2252366.75, 3486149.25, 2804878.5, 2582820.75, 2698253.75, 3022678.75, 2804982.25, 3128099.5, 2771840.75, 2205137.5, 2912647.75, 2174333.25, 1641441.625, 2151462.5], \"type\": \"scatter\", \"uid\": \"475b4657-a96d-411d-ac21-3ea698c5b3ea\"}, {\"line\": {\"color\": \"red\"}, \"mode\": \"lines+markers\", \"name\": \"Forecast\", \"x\": [\"2018-08-31\", \"2018-09-30\", \"2018-10-31\", \"2018-11-30\", \"2018-12-31\", \"2019-01-31\"], \"y\": [3219410.197385754, 2818201.8061988857, 3661767.120481905, 2703551.1511315457, 1770686.9814931802, 2734571.226058975], \"type\": \"scatter\", \"uid\": \"532d6592-e795-4236-a619-dd26db2f3ac3\"}], {\"showlegend\": true, \"title\": {\"text\": \"Prophet with BoxCox\"}, \"yaxis\": {\"title\": {\"text\": \"Cost of Claims\"}}}, {\"showLink\": false, \"linkText\": \"Export to plot.ly\", \"plotlyServerURL\": \"https://plot.ly\"})});</script><script type=\"text/javascript\">window.addEventListener(\"resize\", function(){window._Plotly.Plots.resize(document.getElementById(\"b9e5b162-bab9-454b-b254-9ada991fff26\"));});</script>"
      ]
     },
     "metadata": {},
     "output_type": "display_data"
    }
   ],
   "source": [
    "df_prophet = ProphetCover(df, 6, 'Cost of Claims', True, True, True)"
   ]
  },
  {
   "cell_type": "markdown",
   "metadata": {},
   "source": [
    "## Claims Ratio"
   ]
  },
  {
   "cell_type": "markdown",
   "metadata": {},
   "source": [
    "### Visualization"
   ]
  },
  {
   "cell_type": "code",
   "execution_count": 38,
   "metadata": {
    "ExecuteTime": {
     "end_time": "2019-07-22T10:47:41.133556Z",
     "start_time": "2019-07-22T10:47:40.773357Z"
    }
   },
   "outputs": [
    {
     "data": {
      "image/png": "[encoded data removed]",
      "text/plain": [
       "<Figure size 1080x360 with 1 Axes>"
      ]
     },
     "metadata": {
      "needs_background": "light"
     },
     "output_type": "display_data"
    }
   ],
   "source": [
    "ds_ = pd.date_range('2016-01', '2018-06', freq='MS').strftime(\"%Y-%m\").tolist()\n",
    "y_ = [\n",
    "    1.61802, 1.54237, 1.55733, 1.35447, 1.41088, 1.24814, 1.22923, 1.37104,\n",
    "    1.23826, 1.14563, 1.14955, 0.819155, 1.11548, 0.810772, 0.90687, 0.838505,\n",
    "    1.06264, 0.901214, 0.964954, 1.09966, 0.995444, 1.0743, 0.991349, 0.632517,\n",
    "    0.984967, 0.809011, 0.766737, 0.818321, 0.931744, 0.881937\n",
    "]\n",
    "\n",
    "df = pd.DataFrame({'ds': ds_, 'y': y_}).set_index('ds')\n",
    "\n",
    "PlotMovingAverage(\n",
    "    df, 6, title_='Claims Ratio ', plot_intervals_=True, plot_anomalies_=True)\n",
    "# df.head()"
   ]
  },
  {
   "cell_type": "markdown",
   "metadata": {},
   "source": [
    "### Forecast (with visualization and BoxCox transformation)"
   ]
  },
  {
   "cell_type": "code",
   "execution_count": 39,
   "metadata": {
    "ExecuteTime": {
     "end_time": "2019-07-22T10:47:43.107581Z",
     "start_time": "2019-07-22T10:47:41.136094Z"
    }
   },
   "outputs": [
    {
     "name": "stderr",
     "output_type": "stream",
     "text": [
      "INFO:fbprophet:n_changepoints greater than number of observations.Using 18.\n"
     ]
    },
    {
     "name": "stdout",
     "output_type": "stream",
     "text": [
      "mean absolute error = 8.31%, mean squared error = 0.83%, mean absolute percentage error = 9.6%\n"
     ]
    },
    {
     "data": {
      "application/vnd.plotly.v1+json": {
       "config": {
        "linkText": "Export to plot.ly",
        "plotlyServerURL": "https://plot.ly",
        "showLink": false
       },
       "data": [
        {
         "marker": {
          "color": "lightblue"
         },
         "mode": "lines",
         "name": "Trend",
         "type": "scatter",
         "uid": "998ff621-604b-46fc-b375-49d338a5c369",
         "x": [
          "2016-01-31",
          "2016-02-29",
          "2016-03-31",
          "2016-04-30",
          "2016-05-31",
          "2016-06-30",
          "2016-07-31",
          "2016-08-31",
          "2016-09-30",
          "2016-10-31",
          "2016-11-30",
          "2016-12-31",
          "2017-01-31",
          "2017-02-28",
          "2017-03-31",
          "2017-04-30",
          "2017-05-31",
          "2017-06-30",
          "2017-07-31",
          "2017-08-31",
          "2017-09-30",
          "2017-10-31",
          "2017-11-30",
          "2017-12-31",
          "2018-01-31",
          "2018-02-28",
          "2018-03-31",
          "2018-04-30",
          "2018-05-31",
          "2018-06-30"
         ],
         "y": [
          1.7171070220418552,
          1.6476777484463014,
          1.5734602490830534,
          1.5016368625969692,
          1.4274193632135639,
          1.3556077721866258,
          1.2814039386885867,
          1.2072527959098895,
          1.1355577319705632,
          1.0615335534085986,
          1.0491219112025953,
          1.0363082016608167,
          1.0235168555278584,
          1.0119825719592277,
          0.9992688315596264,
          0.9869849969261391,
          0.9743136206125332,
          0.9620509983815805,
          0.9493796220979374,
          0.9367082457870769,
          0.9244456235507604,
          0.9117742472398999,
          0.8995116250035833,
          0.8868402486927229,
          0.8741688723818624,
          0.8627237582946335,
          0.8500523819837732,
          0.8377897597474566,
          0.825118383436596,
          0.8128557612002795
         ]
        },
        {
         "line": {
          "color": "pink"
         },
         "mode": "lines",
         "name": "Prophet",
         "type": "scatter",
         "uid": "6a3e8681-6677-47b7-b4b3-2042f6658b6a",
         "x": [
          "2016-01-31",
          "2016-02-29",
          "2016-03-31",
          "2016-04-30",
          "2016-05-31",
          "2016-06-30",
          "2016-07-31",
          "2016-08-31",
          "2016-09-30",
          "2016-10-31",
          "2016-11-30",
          "2016-12-31",
          "2017-01-31",
          "2017-02-28",
          "2017-03-31",
          "2017-04-30",
          "2017-05-31",
          "2017-06-30",
          "2017-07-31",
          "2017-08-31",
          "2017-09-30",
          "2017-10-31",
          "2017-11-30",
          "2017-12-31",
          "2018-01-31",
          "2018-02-28",
          "2018-03-31",
          "2018-04-30",
          "2018-05-31",
          "2018-06-30"
         ],
         "y": [
          1.629984838699304,
          1.4943207966563552,
          1.5224629222702866,
          1.3334504604659614,
          1.4118022111567998,
          1.2638905943961452,
          1.2584605307419572,
          1.407116957018945,
          1.2635223235848163,
          1.1544987723352078,
          1.1299525763286118,
          0.7780673003393365,
          1.0933264681916819,
          0.887436934294648,
          0.9601659829067407,
          0.8690018174049785,
          1.0597776600151596,
          0.8774180246624772,
          0.9237878979081706,
          1.0513228865819662,
          0.9623362590353834,
          1.061753530128493,
          1.0119767071274006,
          0.6783319515107002,
          0.9001908373490038,
          0.7312396161637664,
          0.8119377855706376,
          0.7327358131167852,
          0.9787069162574765,
          0.7233352360811459
         ]
        },
        {
         "marker": {
          "color": "green"
         },
         "mode": "lines+markers",
         "name": "Actual values",
         "type": "scatter",
         "uid": "e9c76e61-c865-49ab-b63b-53e875529f06",
         "x": [
          "2016-01-31",
          "2016-02-29",
          "2016-03-31",
          "2016-04-30",
          "2016-05-31",
          "2016-06-30",
          "2016-07-31",
          "2016-08-31",
          "2016-09-30",
          "2016-10-31",
          "2016-11-30",
          "2016-12-31",
          "2017-01-31",
          "2017-02-28",
          "2017-03-31",
          "2017-04-30",
          "2017-05-31",
          "2017-06-30",
          "2017-07-31",
          "2017-08-31",
          "2017-09-30",
          "2017-10-31",
          "2017-11-30",
          "2017-12-31",
          "2018-01-31",
          "2018-02-28",
          "2018-03-31",
          "2018-04-30",
          "2018-05-31",
          "2018-06-30"
         ],
         "y": [
          1.61802,
          1.54237,
          1.55733,
          1.35447,
          1.41088,
          1.24814,
          1.22923,
          1.37104,
          1.23826,
          1.14563,
          1.14955,
          0.8191550000000001,
          1.11548,
          0.810772,
          0.9068699999999998,
          0.838505,
          1.06264,
          0.9012139999999998,
          0.9649540000000001,
          1.09966,
          0.995444,
          1.0743,
          0.9913489999999999,
          0.632517,
          0.984967,
          0.809011,
          0.766737,
          0.818321,
          0.931744,
          0.881937
         ]
        },
        {
         "line": {
          "color": "red"
         },
         "mode": "lines+markers",
         "name": "Forecast",
         "type": "scatter",
         "uid": "a9a4cfd2-c2ce-43be-9f08-0bae5b983a14",
         "x": [
          "2018-01-31",
          "2018-02-28",
          "2018-03-31",
          "2018-04-30",
          "2018-05-31",
          "2018-06-30"
         ],
         "y": [
          0.9001908373490038,
          0.7312396161637664,
          0.8119377855706376,
          0.7327358131167852,
          0.9787069162574765,
          0.7233352360811459
         ]
        }
       ],
       "layout": {
        "showlegend": true,
        "title": {
         "text": "Prophet"
        },
        "yaxis": {
         "title": {
          "text": "Claim Ratio"
         }
        }
       }
      },
      "text/html": [
       "<div id=\"5bfa82aa-c64a-4bfb-acf6-5f8f40400380\" style=\"height: 525px; width: 100%;\" class=\"plotly-graph-div\"></div><script type=\"text/javascript\">require([\"plotly\"], function(Plotly) { window.PLOTLYENV=window.PLOTLYENV || {};window.PLOTLYENV.BASE_URL=\"https://plot.ly\";Plotly.newPlot(\"5bfa82aa-c64a-4bfb-acf6-5f8f40400380\", [{\"marker\": {\"color\": \"lightblue\"}, \"mode\": \"lines\", \"name\": \"Trend\", \"x\": [\"2016-01-31\", \"2016-02-29\", \"2016-03-31\", \"2016-04-30\", \"2016-05-31\", \"2016-06-30\", \"2016-07-31\", \"2016-08-31\", \"2016-09-30\", \"2016-10-31\", \"2016-11-30\", \"2016-12-31\", \"2017-01-31\", \"2017-02-28\", \"2017-03-31\", \"2017-04-30\", \"2017-05-31\", \"2017-06-30\", \"2017-07-31\", \"2017-08-31\", \"2017-09-30\", \"2017-10-31\", \"2017-11-30\", \"2017-12-31\", \"2018-01-31\", \"2018-02-28\", \"2018-03-31\", \"2018-04-30\", \"2018-05-31\", \"2018-06-30\"], \"y\": [1.7171070220418552, 1.6476777484463014, 1.5734602490830534, 1.5016368625969692, 1.4274193632135639, 1.3556077721866258, 1.2814039386885867, 1.2072527959098895, 1.1355577319705632, 1.0615335534085986, 1.0491219112025953, 1.0363082016608167, 1.0235168555278584, 1.0119825719592277, 0.9992688315596264, 0.9869849969261391, 0.9743136206125332, 0.9620509983815805, 0.9493796220979374, 0.9367082457870769, 0.9244456235507604, 0.9117742472398999, 0.8995116250035833, 0.8868402486927229, 0.8741688723818624, 0.8627237582946335, 0.8500523819837732, 0.8377897597474566, 0.825118383436596, 0.8128557612002795], \"type\": \"scatter\", \"uid\": \"998ff621-604b-46fc-b375-49d338a5c369\"}, {\"line\": {\"color\": \"pink\"}, \"mode\": \"lines\", \"name\": \"Prophet\", \"x\": [\"2016-01-31\", \"2016-02-29\", \"2016-03-31\", \"2016-04-30\", \"2016-05-31\", \"2016-06-30\", \"2016-07-31\", \"2016-08-31\", \"2016-09-30\", \"2016-10-31\", \"2016-11-30\", \"2016-12-31\", \"2017-01-31\", \"2017-02-28\", \"2017-03-31\", \"2017-04-30\", \"2017-05-31\", \"2017-06-30\", \"2017-07-31\", \"2017-08-31\", \"2017-09-30\", \"2017-10-31\", \"2017-11-30\", \"2017-12-31\", \"2018-01-31\", \"2018-02-28\", \"2018-03-31\", \"2018-04-30\", \"2018-05-31\", \"2018-06-30\"], \"y\": [1.629984838699304, 1.4943207966563552, 1.5224629222702866, 1.3334504604659614, 1.4118022111567998, 1.2638905943961452, 1.2584605307419572, 1.407116957018945, 1.2635223235848163, 1.1544987723352078, 1.1299525763286118, 0.7780673003393365, 1.0933264681916819, 0.887436934294648, 0.9601659829067407, 0.8690018174049785, 1.0597776600151596, 0.8774180246624772, 0.9237878979081706, 1.0513228865819662, 0.9623362590353834, 1.061753530128493, 1.0119767071274006, 0.6783319515107002, 0.9001908373490038, 0.7312396161637664, 0.8119377855706376, 0.7327358131167852, 0.9787069162574765, 0.7233352360811459], \"type\": \"scatter\", \"uid\": \"6a3e8681-6677-47b7-b4b3-2042f6658b6a\"}, {\"marker\": {\"color\": \"green\"}, \"mode\": \"lines+markers\", \"name\": \"Actual values\", \"x\": [\"2016-01-31\", \"2016-02-29\", \"2016-03-31\", \"2016-04-30\", \"2016-05-31\", \"2016-06-30\", \"2016-07-31\", \"2016-08-31\", \"2016-09-30\", \"2016-10-31\", \"2016-11-30\", \"2016-12-31\", \"2017-01-31\", \"2017-02-28\", \"2017-03-31\", \"2017-04-30\", \"2017-05-31\", \"2017-06-30\", \"2017-07-31\", \"2017-08-31\", \"2017-09-30\", \"2017-10-31\", \"2017-11-30\", \"2017-12-31\", \"2018-01-31\", \"2018-02-28\", \"2018-03-31\", \"2018-04-30\", \"2018-05-31\", \"2018-06-30\"], \"y\": [1.61802, 1.54237, 1.55733, 1.35447, 1.41088, 1.24814, 1.22923, 1.37104, 1.23826, 1.14563, 1.14955, 0.8191550000000001, 1.11548, 0.810772, 0.9068699999999998, 0.838505, 1.06264, 0.9012139999999998, 0.9649540000000001, 1.09966, 0.995444, 1.0743, 0.9913489999999999, 0.632517, 0.984967, 0.809011, 0.766737, 0.818321, 0.931744, 0.881937], \"type\": \"scatter\", \"uid\": \"e9c76e61-c865-49ab-b63b-53e875529f06\"}, {\"line\": {\"color\": \"red\"}, \"mode\": \"lines+markers\", \"name\": \"Forecast\", \"x\": [\"2018-01-31\", \"2018-02-28\", \"2018-03-31\", \"2018-04-30\", \"2018-05-31\", \"2018-06-30\"], \"y\": [0.9001908373490038, 0.7312396161637664, 0.8119377855706376, 0.7327358131167852, 0.9787069162574765, 0.7233352360811459], \"type\": \"scatter\", \"uid\": \"a9a4cfd2-c2ce-43be-9f08-0bae5b983a14\"}], {\"showlegend\": true, \"title\": {\"text\": \"Prophet\"}, \"yaxis\": {\"title\": {\"text\": \"Claim Ratio\"}}}, {\"showLink\": false, \"linkText\": \"Export to plot.ly\", \"plotlyServerURL\": \"https://plot.ly\"})});</script><script type=\"text/javascript\">window.addEventListener(\"resize\", function(){window._Plotly.Plots.resize(document.getElementById(\"5bfa82aa-c64a-4bfb-acf6-5f8f40400380\"));});</script>"
      ],
      "text/vnd.plotly.v1+html": [
       "<div id=\"5bfa82aa-c64a-4bfb-acf6-5f8f40400380\" style=\"height: 525px; width: 100%;\" class=\"plotly-graph-div\"></div><script type=\"text/javascript\">require([\"plotly\"], function(Plotly) { window.PLOTLYENV=window.PLOTLYENV || {};window.PLOTLYENV.BASE_URL=\"https://plot.ly\";Plotly.newPlot(\"5bfa82aa-c64a-4bfb-acf6-5f8f40400380\", [{\"marker\": {\"color\": \"lightblue\"}, \"mode\": \"lines\", \"name\": \"Trend\", \"x\": [\"2016-01-31\", \"2016-02-29\", \"2016-03-31\", \"2016-04-30\", \"2016-05-31\", \"2016-06-30\", \"2016-07-31\", \"2016-08-31\", \"2016-09-30\", \"2016-10-31\", \"2016-11-30\", \"2016-12-31\", \"2017-01-31\", \"2017-02-28\", \"2017-03-31\", \"2017-04-30\", \"2017-05-31\", \"2017-06-30\", \"2017-07-31\", \"2017-08-31\", \"2017-09-30\", \"2017-10-31\", \"2017-11-30\", \"2017-12-31\", \"2018-01-31\", \"2018-02-28\", \"2018-03-31\", \"2018-04-30\", \"2018-05-31\", \"2018-06-30\"], \"y\": [1.7171070220418552, 1.6476777484463014, 1.5734602490830534, 1.5016368625969692, 1.4274193632135639, 1.3556077721866258, 1.2814039386885867, 1.2072527959098895, 1.1355577319705632, 1.0615335534085986, 1.0491219112025953, 1.0363082016608167, 1.0235168555278584, 1.0119825719592277, 0.9992688315596264, 0.9869849969261391, 0.9743136206125332, 0.9620509983815805, 0.9493796220979374, 0.9367082457870769, 0.9244456235507604, 0.9117742472398999, 0.8995116250035833, 0.8868402486927229, 0.8741688723818624, 0.8627237582946335, 0.8500523819837732, 0.8377897597474566, 0.825118383436596, 0.8128557612002795], \"type\": \"scatter\", \"uid\": \"998ff621-604b-46fc-b375-49d338a5c369\"}, {\"line\": {\"color\": \"pink\"}, \"mode\": \"lines\", \"name\": \"Prophet\", \"x\": [\"2016-01-31\", \"2016-02-29\", \"2016-03-31\", \"2016-04-30\", \"2016-05-31\", \"2016-06-30\", \"2016-07-31\", \"2016-08-31\", \"2016-09-30\", \"2016-10-31\", \"2016-11-30\", \"2016-12-31\", \"2017-01-31\", \"2017-02-28\", \"2017-03-31\", \"2017-04-30\", \"2017-05-31\", \"2017-06-30\", \"2017-07-31\", \"2017-08-31\", \"2017-09-30\", \"2017-10-31\", \"2017-11-30\", \"2017-12-31\", \"2018-01-31\", \"2018-02-28\", \"2018-03-31\", \"2018-04-30\", \"2018-05-31\", \"2018-06-30\"], \"y\": [1.629984838699304, 1.4943207966563552, 1.5224629222702866, 1.3334504604659614, 1.4118022111567998, 1.2638905943961452, 1.2584605307419572, 1.407116957018945, 1.2635223235848163, 1.1544987723352078, 1.1299525763286118, 0.7780673003393365, 1.0933264681916819, 0.887436934294648, 0.9601659829067407, 0.8690018174049785, 1.0597776600151596, 0.8774180246624772, 0.9237878979081706, 1.0513228865819662, 0.9623362590353834, 1.061753530128493, 1.0119767071274006, 0.6783319515107002, 0.9001908373490038, 0.7312396161637664, 0.8119377855706376, 0.7327358131167852, 0.9787069162574765, 0.7233352360811459], \"type\": \"scatter\", \"uid\": \"6a3e8681-6677-47b7-b4b3-2042f6658b6a\"}, {\"marker\": {\"color\": \"green\"}, \"mode\": \"lines+markers\", \"name\": \"Actual values\", \"x\": [\"2016-01-31\", \"2016-02-29\", \"2016-03-31\", \"2016-04-30\", \"2016-05-31\", \"2016-06-30\", \"2016-07-31\", \"2016-08-31\", \"2016-09-30\", \"2016-10-31\", \"2016-11-30\", \"2016-12-31\", \"2017-01-31\", \"2017-02-28\", \"2017-03-31\", \"2017-04-30\", \"2017-05-31\", \"2017-06-30\", \"2017-07-31\", \"2017-08-31\", \"2017-09-30\", \"2017-10-31\", \"2017-11-30\", \"2017-12-31\", \"2018-01-31\", \"2018-02-28\", \"2018-03-31\", \"2018-04-30\", \"2018-05-31\", \"2018-06-30\"], \"y\": [1.61802, 1.54237, 1.55733, 1.35447, 1.41088, 1.24814, 1.22923, 1.37104, 1.23826, 1.14563, 1.14955, 0.8191550000000001, 1.11548, 0.810772, 0.9068699999999998, 0.838505, 1.06264, 0.9012139999999998, 0.9649540000000001, 1.09966, 0.995444, 1.0743, 0.9913489999999999, 0.632517, 0.984967, 0.809011, 0.766737, 0.818321, 0.931744, 0.881937], \"type\": \"scatter\", \"uid\": \"e9c76e61-c865-49ab-b63b-53e875529f06\"}, {\"line\": {\"color\": \"red\"}, \"mode\": \"lines+markers\", \"name\": \"Forecast\", \"x\": [\"2018-01-31\", \"2018-02-28\", \"2018-03-31\", \"2018-04-30\", \"2018-05-31\", \"2018-06-30\"], \"y\": [0.9001908373490038, 0.7312396161637664, 0.8119377855706376, 0.7327358131167852, 0.9787069162574765, 0.7233352360811459], \"type\": \"scatter\", \"uid\": \"a9a4cfd2-c2ce-43be-9f08-0bae5b983a14\"}], {\"showlegend\": true, \"title\": {\"text\": \"Prophet\"}, \"yaxis\": {\"title\": {\"text\": \"Claim Ratio\"}}}, {\"showLink\": false, \"linkText\": \"Export to plot.ly\", \"plotlyServerURL\": \"https://plot.ly\"})});</script><script type=\"text/javascript\">window.addEventListener(\"resize\", function(){window._Plotly.Plots.resize(document.getElementById(\"5bfa82aa-c64a-4bfb-acf6-5f8f40400380\"));});</script>"
      ]
     },
     "metadata": {},
     "output_type": "display_data"
    }
   ],
   "source": [
    "df_prophet = ProphetCover(df, 6, 'Claim Ratio', True, True, False)\n",
    "# df_prophet.head()"
   ]
  }
 ],
 "metadata": {
  "kernelspec": {
   "display_name": "Python 3",
   "language": "python",
   "name": "python3"
  },
  "language_info": {
   "codemirror_mode": {
    "name": "ipython",
    "version": 3
   },
   "file_extension": ".py",
   "mimetype": "text/x-python",
   "name": "python",
   "nbconvert_exporter": "python",
   "pygments_lexer": "ipython3",
   "version": "3.6.6"
  },
  "toc": {
   "base_numbering": 1,
   "nav_menu": {},
   "number_sections": true,
   "sideBar": true,
   "skip_h1_title": false,
   "title_cell": "Table of Contents",
   "title_sidebar": "Contents",
   "toc_cell": false,
   "toc_position": {},
   "toc_section_display": true,
   "toc_window_display": true
  }
 },
 "nbformat": 4,
 "nbformat_minor": 2
}
